{
 "cells": [
  {
   "cell_type": "markdown",
   "id": "e49f34cf",
   "metadata": {},
   "source": [
    "### Import Libraries"
   ]
  },
  {
   "cell_type": "code",
   "execution_count": 146,
   "id": "393575e6",
   "metadata": {},
   "outputs": [],
   "source": [
    "import pandas as pd\n",
    "import matplotlib.pyplot as plt\n",
    "\n",
    "# modeling helper functions\n",
    "from sklearn.feature_extraction.text import TfidfVectorizer\n",
    "from sklearn.model_selection import train_test_split\n",
    "from sklearn.preprocessing import StandardScaler\n",
    "from sklearn.metrics import confusion_matrix\n",
    "\n",
    "# classification models\n",
    "from sklearn.linear_model import LogisticRegression\n",
    "from sklearn.neighbors import KNeighborsClassifier\n",
    "from sklearn.svm import SVC\n",
    "from sklearn.naive_bayes import GaussianNB\n",
    "from sklearn.neural_network import MLPClassifier\n",
    "from sklearn.tree import DecisionTreeClassifier\n",
    "from sklearn.ensemble import RandomForestClassifier\n",
    "from sklearn.ensemble import AdaBoostClassifier\n",
    "from xgboost import XGBClassifier\n",
    "from catboost import CatBoostClassifier"
   ]
  },
  {
   "cell_type": "markdown",
   "id": "263e2a19",
   "metadata": {},
   "source": [
    "### Read the Data"
   ]
  },
  {
   "cell_type": "code",
   "execution_count": 2,
   "id": "819b39d7",
   "metadata": {},
   "outputs": [],
   "source": [
    "train = pd.read_csv(\"../data/train.csv\")\n",
    "test = pd.read_csv(\"../data/test.csv\")"
   ]
  },
  {
   "cell_type": "markdown",
   "id": "2753fec5",
   "metadata": {},
   "source": [
    "### Exploratory Data Analysis"
   ]
  },
  {
   "cell_type": "code",
   "execution_count": 3,
   "id": "31f9fffd",
   "metadata": {},
   "outputs": [
    {
     "data": {
      "text/plain": [
       "(20800, 5)"
      ]
     },
     "execution_count": 3,
     "metadata": {},
     "output_type": "execute_result"
    }
   ],
   "source": [
    "train.shape"
   ]
  },
  {
   "cell_type": "code",
   "execution_count": 4,
   "id": "e189460a",
   "metadata": {},
   "outputs": [
    {
     "data": {
      "text/plain": [
       "(5200, 4)"
      ]
     },
     "execution_count": 4,
     "metadata": {},
     "output_type": "execute_result"
    }
   ],
   "source": [
    "test.shape"
   ]
  },
  {
   "cell_type": "code",
   "execution_count": 5,
   "id": "14302c9b",
   "metadata": {},
   "outputs": [
    {
     "data": {
      "text/html": [
       "<div>\n",
       "<style scoped>\n",
       "    .dataframe tbody tr th:only-of-type {\n",
       "        vertical-align: middle;\n",
       "    }\n",
       "\n",
       "    .dataframe tbody tr th {\n",
       "        vertical-align: top;\n",
       "    }\n",
       "\n",
       "    .dataframe thead th {\n",
       "        text-align: right;\n",
       "    }\n",
       "</style>\n",
       "<table border=\"1\" class=\"dataframe\">\n",
       "  <thead>\n",
       "    <tr style=\"text-align: right;\">\n",
       "      <th></th>\n",
       "      <th>id</th>\n",
       "      <th>title</th>\n",
       "      <th>author</th>\n",
       "      <th>text</th>\n",
       "      <th>label</th>\n",
       "    </tr>\n",
       "  </thead>\n",
       "  <tbody>\n",
       "    <tr>\n",
       "      <th>0</th>\n",
       "      <td>0</td>\n",
       "      <td>House Dem Aide: We Didn’t Even See Comey’s Let...</td>\n",
       "      <td>Darrell Lucus</td>\n",
       "      <td>House Dem Aide: We Didn’t Even See Comey’s Let...</td>\n",
       "      <td>1</td>\n",
       "    </tr>\n",
       "    <tr>\n",
       "      <th>1</th>\n",
       "      <td>1</td>\n",
       "      <td>FLYNN: Hillary Clinton, Big Woman on Campus - ...</td>\n",
       "      <td>Daniel J. Flynn</td>\n",
       "      <td>Ever get the feeling your life circles the rou...</td>\n",
       "      <td>0</td>\n",
       "    </tr>\n",
       "    <tr>\n",
       "      <th>2</th>\n",
       "      <td>2</td>\n",
       "      <td>Why the Truth Might Get You Fired</td>\n",
       "      <td>Consortiumnews.com</td>\n",
       "      <td>Why the Truth Might Get You Fired October 29, ...</td>\n",
       "      <td>1</td>\n",
       "    </tr>\n",
       "    <tr>\n",
       "      <th>3</th>\n",
       "      <td>3</td>\n",
       "      <td>15 Civilians Killed In Single US Airstrike Hav...</td>\n",
       "      <td>Jessica Purkiss</td>\n",
       "      <td>Videos 15 Civilians Killed In Single US Airstr...</td>\n",
       "      <td>1</td>\n",
       "    </tr>\n",
       "    <tr>\n",
       "      <th>4</th>\n",
       "      <td>4</td>\n",
       "      <td>Iranian woman jailed for fictional unpublished...</td>\n",
       "      <td>Howard Portnoy</td>\n",
       "      <td>Print \\nAn Iranian woman has been sentenced to...</td>\n",
       "      <td>1</td>\n",
       "    </tr>\n",
       "  </tbody>\n",
       "</table>\n",
       "</div>"
      ],
      "text/plain": [
       "   id                                              title              author  \\\n",
       "0   0  House Dem Aide: We Didn’t Even See Comey’s Let...       Darrell Lucus   \n",
       "1   1  FLYNN: Hillary Clinton, Big Woman on Campus - ...     Daniel J. Flynn   \n",
       "2   2                  Why the Truth Might Get You Fired  Consortiumnews.com   \n",
       "3   3  15 Civilians Killed In Single US Airstrike Hav...     Jessica Purkiss   \n",
       "4   4  Iranian woman jailed for fictional unpublished...      Howard Portnoy   \n",
       "\n",
       "                                                text  label  \n",
       "0  House Dem Aide: We Didn’t Even See Comey’s Let...      1  \n",
       "1  Ever get the feeling your life circles the rou...      0  \n",
       "2  Why the Truth Might Get You Fired October 29, ...      1  \n",
       "3  Videos 15 Civilians Killed In Single US Airstr...      1  \n",
       "4  Print \\nAn Iranian woman has been sentenced to...      1  "
      ]
     },
     "execution_count": 5,
     "metadata": {},
     "output_type": "execute_result"
    }
   ],
   "source": [
    "train.head()"
   ]
  },
  {
   "cell_type": "markdown",
   "id": "ebb81950",
   "metadata": {},
   "source": [
    "Using `train.describe()` to see statistics is not suitable here as there is no numeric data."
   ]
  },
  {
   "cell_type": "markdown",
   "id": "32f04928",
   "metadata": {},
   "source": [
    "#### Plotting a chart to see distribution of class labels"
   ]
  },
  {
   "cell_type": "code",
   "execution_count": 6,
   "id": "c3131440",
   "metadata": {},
   "outputs": [
    {
     "data": {
      "image/png": "[encoded data removed]",
      "text/plain": [
       "<Figure size 288x432 with 1 Axes>"
      ]
     },
     "metadata": {
      "needs_background": "light"
     },
     "output_type": "display_data"
    }
   ],
   "source": [
    "x = ['Real', 'Fake']\n",
    "y = [train['label'].value_counts()[0], train['label'].value_counts()[1]]\n",
    "  \n",
    "fig = plt.figure(figsize=(4,6))\n",
    "colors = ['#3DE25A', '#F4433B']\n",
    "\n",
    "# creating the bar plot\n",
    "plt.bar(x, y, color=colors, width=0.2)\n",
    "# adding count values to display\n",
    "for index, value in enumerate(y): \n",
    "    plt.text(index-0.09, value, str(value)) \n",
    "    \n",
    "plt.xlabel(\"Real / Fake News\")\n",
    "plt.ylabel(\"Number of News\")\n",
    "plt.title(\"Count of Real and Fake News\")\n",
    "plt.show()"
   ]
  },
  {
   "cell_type": "markdown",
   "id": "a0bb2f80",
   "metadata": {},
   "source": [
    "It is observed that there are almost the same number of real and fake news. There is **no class imbalance** which needs to be dealt with."
   ]
  },
  {
   "cell_type": "markdown",
   "id": "f62643dc",
   "metadata": {},
   "source": [
    "#### Plotting the length of text vs. class label"
   ]
  },
  {
   "cell_type": "markdown",
   "id": "e71bd5df",
   "metadata": {},
   "source": [
    "To see whether the authenticity of a news article is associated with the length of that article. If yes, then this can be used as an input to the ML model."
   ]
  },
  {
   "cell_type": "code",
   "execution_count": 12,
   "id": "cc9c61d2",
   "metadata": {},
   "outputs": [],
   "source": [
    "# calculate the length of each article\n",
    "train['length'] = train['text'].apply(lambda x:len(x) if x==x else 0) # x==x will return False if x is NaN\n",
    "\n",
    "# separate the lengths of real and fake articles\n",
    "real_len = train[train['label']==0]['length'].values\n",
    "fake_len = train[train['label']==1]['length'].values"
   ]
  },
  {
   "cell_type": "code",
   "execution_count": 13,
   "id": "efef24a5",
   "metadata": {},
   "outputs": [
    {
     "data": {
      "image/png": "[encoded data removed]",
      "text/plain": [
       "<Figure size 1080x432 with 1 Axes>"
      ]
     },
     "metadata": {
      "needs_background": "light"
     },
     "output_type": "display_data"
    }
   ],
   "source": [
    "fig = plt.figure(figsize=(15,6))\n",
    " \n",
    "# creating plot\n",
    "plt.boxplot([real_len, fake_len], vert=False, labels=['Real News','Fake News'])\n",
    " \n",
    "# show plot\n",
    "plt.show()"
   ]
  },
  {
   "cell_type": "markdown",
   "id": "9bc4916e",
   "metadata": {},
   "source": [
    "Looking at the boxplots, it is evident that the length of fake news article is less than real news, but the difference doesn't seem to be significant. For this reason, plot the boxplot again. Only this time, without the outliers."
   ]
  },
  {
   "cell_type": "code",
   "execution_count": 14,
   "id": "6e43640c",
   "metadata": {},
   "outputs": [
    {
     "data": {
      "image/png": "[encoded data removed]",
      "text/plain": [
       "<Figure size 1080x432 with 1 Axes>"
      ]
     },
     "metadata": {
      "needs_background": "light"
     },
     "output_type": "display_data"
    }
   ],
   "source": [
    "fig = plt.figure(figsize=(15,6))\n",
    " \n",
    "# creating plot\n",
    "plt.boxplot([real_len, fake_len], vert=False, labels=['Real News','Fake News'], showfliers=False)\n",
    " \n",
    "# show plot\n",
    "plt.show()"
   ]
  },
  {
   "cell_type": "markdown",
   "id": "0225b2e4",
   "metadata": {},
   "source": [
    "From this chart, it is observed that the overall length of fake news article is usually less than that of real news. The median length of fake news article is around 2300 and that of real article is 4500."
   ]
  },
  {
   "cell_type": "code",
   "execution_count": 15,
   "id": "682f08fa",
   "metadata": {},
   "outputs": [
    {
     "name": "stdout",
     "output_type": "stream",
     "text": [
      "<class 'pandas.core.frame.DataFrame'>\n",
      "RangeIndex: 20800 entries, 0 to 20799\n",
      "Data columns (total 6 columns):\n",
      " #   Column  Non-Null Count  Dtype \n",
      "---  ------  --------------  ----- \n",
      " 0   id      20800 non-null  int64 \n",
      " 1   title   20242 non-null  object\n",
      " 2   author  18843 non-null  object\n",
      " 3   text    20761 non-null  object\n",
      " 4   label   20800 non-null  int64 \n",
      " 5   length  20800 non-null  int64 \n",
      "dtypes: int64(3), object(3)\n",
      "memory usage: 975.1+ KB\n"
     ]
    }
   ],
   "source": [
    "train.info()"
   ]
  },
  {
   "cell_type": "markdown",
   "id": "3dc734fa",
   "metadata": {},
   "source": [
    "It can be observed that apart from id, all the other independent variables have some missing values. Let's dig deeper into this and explore the missing values."
   ]
  },
  {
   "cell_type": "code",
   "execution_count": 17,
   "id": "7ed0eb29",
   "metadata": {},
   "outputs": [
    {
     "data": {
      "text/html": [
       "<div>\n",
       "<style scoped>\n",
       "    .dataframe tbody tr th:only-of-type {\n",
       "        vertical-align: middle;\n",
       "    }\n",
       "\n",
       "    .dataframe tbody tr th {\n",
       "        vertical-align: top;\n",
       "    }\n",
       "\n",
       "    .dataframe thead th {\n",
       "        text-align: right;\n",
       "    }\n",
       "</style>\n",
       "<table border=\"1\" class=\"dataframe\">\n",
       "  <thead>\n",
       "    <tr style=\"text-align: right;\">\n",
       "      <th></th>\n",
       "      <th>id</th>\n",
       "      <th>title</th>\n",
       "      <th>author</th>\n",
       "      <th>text</th>\n",
       "      <th>label</th>\n",
       "      <th>length</th>\n",
       "    </tr>\n",
       "  </thead>\n",
       "  <tbody>\n",
       "    <tr>\n",
       "      <th>53</th>\n",
       "      <td>53</td>\n",
       "      <td>NaN</td>\n",
       "      <td>Dairy✓ᵀᴿᵁᴹᴾ</td>\n",
       "      <td>Sounds like he has our president pegged. What ...</td>\n",
       "      <td>1</td>\n",
       "      <td>679</td>\n",
       "    </tr>\n",
       "    <tr>\n",
       "      <th>120</th>\n",
       "      <td>120</td>\n",
       "      <td>NaN</td>\n",
       "      <td>Anonymous</td>\n",
       "      <td>Same people all the time , i dont know how you...</td>\n",
       "      <td>1</td>\n",
       "      <td>135</td>\n",
       "    </tr>\n",
       "    <tr>\n",
       "      <th>124</th>\n",
       "      <td>124</td>\n",
       "      <td>NaN</td>\n",
       "      <td>SeekSearchDestory</td>\n",
       "      <td>You know, outside of any morality arguments, i...</td>\n",
       "      <td>1</td>\n",
       "      <td>533</td>\n",
       "    </tr>\n",
       "    <tr>\n",
       "      <th>140</th>\n",
       "      <td>140</td>\n",
       "      <td>NaN</td>\n",
       "      <td>Anonymous</td>\n",
       "      <td>There is a lot more than meets the eye to this...</td>\n",
       "      <td>1</td>\n",
       "      <td>736</td>\n",
       "    </tr>\n",
       "    <tr>\n",
       "      <th>196</th>\n",
       "      <td>196</td>\n",
       "      <td>NaN</td>\n",
       "      <td>Raffie</td>\n",
       "      <td>They got the heater turned up on high.</td>\n",
       "      <td>1</td>\n",
       "      <td>38</td>\n",
       "    </tr>\n",
       "  </tbody>\n",
       "</table>\n",
       "</div>"
      ],
      "text/plain": [
       "      id title             author  \\\n",
       "53    53   NaN        Dairy✓ᵀᴿᵁᴹᴾ   \n",
       "120  120   NaN          Anonymous   \n",
       "124  124   NaN  SeekSearchDestory   \n",
       "140  140   NaN          Anonymous   \n",
       "196  196   NaN             Raffie   \n",
       "\n",
       "                                                  text  label  length  \n",
       "53   Sounds like he has our president pegged. What ...      1     679  \n",
       "120  Same people all the time , i dont know how you...      1     135  \n",
       "124  You know, outside of any morality arguments, i...      1     533  \n",
       "140  There is a lot more than meets the eye to this...      1     736  \n",
       "196             They got the heater turned up on high.      1      38  "
      ]
     },
     "execution_count": 17,
     "metadata": {},
     "output_type": "execute_result"
    }
   ],
   "source": [
    "# missing title\n",
    "train[train['title'].isnull()].head()"
   ]
  },
  {
   "cell_type": "markdown",
   "id": "2294b127",
   "metadata": {},
   "source": [
    "For the first five examples, it is observed that if the title is missing, then it is a fake news. Let's validate this for all the missing titles and other fields."
   ]
  },
  {
   "cell_type": "code",
   "execution_count": 25,
   "id": "ba74f296",
   "metadata": {},
   "outputs": [
    {
     "name": "stdout",
     "output_type": "stream",
     "text": [
      "Number of records with missing Title: 558\n",
      "Labels: [1]\n"
     ]
    }
   ],
   "source": [
    "# check the labels which occur across missing title records\n",
    "count = len(train[train['title'].isnull()])\n",
    "print(\"Number of records with missing Title:\",count)\n",
    "print(\"Labels found:\", train[train['title'].isnull()]['label'].unique().tolist())"
   ]
  },
  {
   "cell_type": "code",
   "execution_count": 26,
   "id": "afc9cb19",
   "metadata": {},
   "outputs": [
    {
     "name": "stdout",
     "output_type": "stream",
     "text": [
      "Number of records with missing Author: 1957\n",
      "Labels: [1, 0]\n"
     ]
    }
   ],
   "source": [
    "# check the labels which occur across missing author records\n",
    "count = len(train[train['author'].isnull()])\n",
    "print(\"Number of records with missing Author:\",count)\n",
    "print(\"Labels found:\", train[train['author'].isnull()]['label'].unique().tolist())"
   ]
  },
  {
   "cell_type": "code",
   "execution_count": 27,
   "id": "2ec95ea0",
   "metadata": {},
   "outputs": [
    {
     "name": "stdout",
     "output_type": "stream",
     "text": [
      "Number of records with missing Text: 39\n",
      "Labels found: [1]\n"
     ]
    }
   ],
   "source": [
    "# check the labels which occur across missing text records\n",
    "count = len(train[train['text'].isnull()])\n",
    "print(\"Number of records with missing Text:\",count)\n",
    "print(\"Labels found:\", train[train['text'].isnull()]['label'].unique().tolist())"
   ]
  },
  {
   "cell_type": "markdown",
   "id": "ed5d053c",
   "metadata": {},
   "source": [
    "- It is observed that there are 558 articles with missing **title** and all of them are fake. \n",
    "- Same with articles with missing **text.** There are 39 articles with missing text and all are fake. \n",
    "- In case of articles with missing **author**, this pattern did not hold true. Articles with missing author could be real or could be fake."
   ]
  },
  {
   "cell_type": "markdown",
   "id": "7e380fa5",
   "metadata": {},
   "source": [
    "Missing values were denoted by NaN in the dataset. But there is another possibility of missing value which is the text being empty. The value is not NaN but it only contains whitespace. Let's analyze those cases as well."
   ]
  },
  {
   "cell_type": "code",
   "execution_count": 40,
   "id": "40387a77",
   "metadata": {},
   "outputs": [],
   "source": [
    "# mark the cases which have only whitespace in text column\n",
    "train['blank'] = train['text'].apply(lambda x:str.isspace(x) if x==x else False)"
   ]
  },
  {
   "cell_type": "code",
   "execution_count": 42,
   "id": "99f1294e",
   "metadata": {},
   "outputs": [
    {
     "data": {
      "text/html": [
       "<div>\n",
       "<style scoped>\n",
       "    .dataframe tbody tr th:only-of-type {\n",
       "        vertical-align: middle;\n",
       "    }\n",
       "\n",
       "    .dataframe tbody tr th {\n",
       "        vertical-align: top;\n",
       "    }\n",
       "\n",
       "    .dataframe thead th {\n",
       "        text-align: right;\n",
       "    }\n",
       "</style>\n",
       "<table border=\"1\" class=\"dataframe\">\n",
       "  <thead>\n",
       "    <tr style=\"text-align: right;\">\n",
       "      <th></th>\n",
       "      <th>id</th>\n",
       "      <th>title</th>\n",
       "      <th>author</th>\n",
       "      <th>text</th>\n",
       "      <th>label</th>\n",
       "      <th>length</th>\n",
       "      <th>blank</th>\n",
       "    </tr>\n",
       "  </thead>\n",
       "  <tbody>\n",
       "    <tr>\n",
       "      <th>82</th>\n",
       "      <td>82</td>\n",
       "      <td>Huma’s Weiner Dogs Hillary</td>\n",
       "      <td>Steve Sailer</td>\n",
       "      <td></td>\n",
       "      <td>1</td>\n",
       "      <td>1</td>\n",
       "      <td>True</td>\n",
       "    </tr>\n",
       "    <tr>\n",
       "      <th>169</th>\n",
       "      <td>169</td>\n",
       "      <td>Mohamad Khweis: Another “Virginia Man” (Palest...</td>\n",
       "      <td>James Fulford</td>\n",
       "      <td></td>\n",
       "      <td>1</td>\n",
       "      <td>1</td>\n",
       "      <td>True</td>\n",
       "    </tr>\n",
       "    <tr>\n",
       "      <th>295</th>\n",
       "      <td>295</td>\n",
       "      <td>A Connecticut Reader Reports Record Voter Regi...</td>\n",
       "      <td>VDARE.com Reader</td>\n",
       "      <td></td>\n",
       "      <td>1</td>\n",
       "      <td>1</td>\n",
       "      <td>True</td>\n",
       "    </tr>\n",
       "    <tr>\n",
       "      <th>470</th>\n",
       "      <td>470</td>\n",
       "      <td>BULLETIN: There ARE Righteous Jews For Trump!;...</td>\n",
       "      <td>admin</td>\n",
       "      <td></td>\n",
       "      <td>1</td>\n",
       "      <td>1</td>\n",
       "      <td>True</td>\n",
       "    </tr>\n",
       "    <tr>\n",
       "      <th>592</th>\n",
       "      <td>592</td>\n",
       "      <td>Is your promising internet career over now Vin...</td>\n",
       "      <td>newsbiscuit editorial team</td>\n",
       "      <td></td>\n",
       "      <td>1</td>\n",
       "      <td>1</td>\n",
       "      <td>True</td>\n",
       "    </tr>\n",
       "  </tbody>\n",
       "</table>\n",
       "</div>"
      ],
      "text/plain": [
       "      id                                              title  \\\n",
       "82    82                         Huma’s Weiner Dogs Hillary   \n",
       "169  169  Mohamad Khweis: Another “Virginia Man” (Palest...   \n",
       "295  295  A Connecticut Reader Reports Record Voter Regi...   \n",
       "470  470  BULLETIN: There ARE Righteous Jews For Trump!;...   \n",
       "592  592  Is your promising internet career over now Vin...   \n",
       "\n",
       "                         author text  label  length  blank  \n",
       "82                 Steve Sailer           1       1   True  \n",
       "169               James Fulford           1       1   True  \n",
       "295            VDARE.com Reader           1       1   True  \n",
       "470                       admin           1       1   True  \n",
       "592  newsbiscuit editorial team           1       1   True  "
      ]
     },
     "execution_count": 42,
     "metadata": {},
     "output_type": "execute_result"
    }
   ],
   "source": [
    "# articles with empty text\n",
    "train[train['blank']].head()"
   ]
  },
  {
   "cell_type": "code",
   "execution_count": 44,
   "id": "866ba43f",
   "metadata": {},
   "outputs": [
    {
     "name": "stdout",
     "output_type": "stream",
     "text": [
      "Number of records with empty/blank Text: 77\n",
      "Labels found: [1]\n"
     ]
    }
   ],
   "source": [
    "# check the labels which occur across empty text records\n",
    "count = len(train[train['blank']])\n",
    "print(\"Number of records with empty/blank Text:\",count)\n",
    "print(\"Labels found:\", train[train['blank']]['label'].unique().tolist())"
   ]
  },
  {
   "cell_type": "markdown",
   "id": "ab4a2bc9",
   "metadata": {},
   "source": [
    "Similar to articles with missing/NaN text value, it is observed that all articles with empty/blank text in train set are fake news."
   ]
  },
  {
   "cell_type": "markdown",
   "id": "3981e9be",
   "metadata": {},
   "source": [
    "### Feature Engineering"
   ]
  },
  {
   "cell_type": "markdown",
   "id": "c0e3cc97",
   "metadata": {},
   "source": [
    "Based on EDA, following features can be added to the data which could be useful in modeling:\n",
    "- Length of the text\n",
    "- Flag for whether the Title is missing\n",
    "- Flag for whether the Text is missing or blank"
   ]
  },
  {
   "cell_type": "code",
   "execution_count": 52,
   "id": "13db9dd4",
   "metadata": {},
   "outputs": [],
   "source": [
    "# add a column with length of text\n",
    "# this has already been computed for train data\n",
    "# calculate length of text for test data\n",
    "test['length'] = test['text'].apply(lambda x:len(x) if x==x else 0) # x==x will return False if x is NaN"
   ]
  },
  {
   "cell_type": "code",
   "execution_count": 53,
   "id": "799da82b",
   "metadata": {},
   "outputs": [],
   "source": [
    "# add a flag for missing title\n",
    "train['missing_title'] = train['title'].apply(lambda x:1 if x!=x else 0)\n",
    "test['missing_title'] = test['title'].apply(lambda x:1 if x!=x else 0)"
   ]
  },
  {
   "cell_type": "code",
   "execution_count": 55,
   "id": "8e786375",
   "metadata": {},
   "outputs": [],
   "source": [
    "# add a flag for missing or blank text\n",
    "train['missing_text'] = train['text'].apply(lambda x:1 if (x!=x or str.isspace(x)) else 0)\n",
    "test['missing_text'] = test['text'].apply(lambda x:1 if (x!=x or str.isspace(x)) else 0)\n",
    "train = train.drop('blank', axis=1)"
   ]
  },
  {
   "cell_type": "code",
   "execution_count": 56,
   "id": "74c364bd",
   "metadata": {},
   "outputs": [
    {
     "data": {
      "text/html": [
       "<div>\n",
       "<style scoped>\n",
       "    .dataframe tbody tr th:only-of-type {\n",
       "        vertical-align: middle;\n",
       "    }\n",
       "\n",
       "    .dataframe tbody tr th {\n",
       "        vertical-align: top;\n",
       "    }\n",
       "\n",
       "    .dataframe thead th {\n",
       "        text-align: right;\n",
       "    }\n",
       "</style>\n",
       "<table border=\"1\" class=\"dataframe\">\n",
       "  <thead>\n",
       "    <tr style=\"text-align: right;\">\n",
       "      <th></th>\n",
       "      <th>id</th>\n",
       "      <th>title</th>\n",
       "      <th>author</th>\n",
       "      <th>text</th>\n",
       "      <th>label</th>\n",
       "      <th>length</th>\n",
       "      <th>missing_title</th>\n",
       "      <th>missing_text</th>\n",
       "    </tr>\n",
       "  </thead>\n",
       "  <tbody>\n",
       "    <tr>\n",
       "      <th>0</th>\n",
       "      <td>0</td>\n",
       "      <td>House Dem Aide: We Didn’t Even See Comey’s Let...</td>\n",
       "      <td>Darrell Lucus</td>\n",
       "      <td>House Dem Aide: We Didn’t Even See Comey’s Let...</td>\n",
       "      <td>1</td>\n",
       "      <td>4930</td>\n",
       "      <td>0</td>\n",
       "      <td>0</td>\n",
       "    </tr>\n",
       "    <tr>\n",
       "      <th>1</th>\n",
       "      <td>1</td>\n",
       "      <td>FLYNN: Hillary Clinton, Big Woman on Campus - ...</td>\n",
       "      <td>Daniel J. Flynn</td>\n",
       "      <td>Ever get the feeling your life circles the rou...</td>\n",
       "      <td>0</td>\n",
       "      <td>4160</td>\n",
       "      <td>0</td>\n",
       "      <td>0</td>\n",
       "    </tr>\n",
       "    <tr>\n",
       "      <th>2</th>\n",
       "      <td>2</td>\n",
       "      <td>Why the Truth Might Get You Fired</td>\n",
       "      <td>Consortiumnews.com</td>\n",
       "      <td>Why the Truth Might Get You Fired October 29, ...</td>\n",
       "      <td>1</td>\n",
       "      <td>7692</td>\n",
       "      <td>0</td>\n",
       "      <td>0</td>\n",
       "    </tr>\n",
       "    <tr>\n",
       "      <th>3</th>\n",
       "      <td>3</td>\n",
       "      <td>15 Civilians Killed In Single US Airstrike Hav...</td>\n",
       "      <td>Jessica Purkiss</td>\n",
       "      <td>Videos 15 Civilians Killed In Single US Airstr...</td>\n",
       "      <td>1</td>\n",
       "      <td>3237</td>\n",
       "      <td>0</td>\n",
       "      <td>0</td>\n",
       "    </tr>\n",
       "    <tr>\n",
       "      <th>4</th>\n",
       "      <td>4</td>\n",
       "      <td>Iranian woman jailed for fictional unpublished...</td>\n",
       "      <td>Howard Portnoy</td>\n",
       "      <td>Print \\nAn Iranian woman has been sentenced to...</td>\n",
       "      <td>1</td>\n",
       "      <td>938</td>\n",
       "      <td>0</td>\n",
       "      <td>0</td>\n",
       "    </tr>\n",
       "  </tbody>\n",
       "</table>\n",
       "</div>"
      ],
      "text/plain": [
       "   id                                              title              author  \\\n",
       "0   0  House Dem Aide: We Didn’t Even See Comey’s Let...       Darrell Lucus   \n",
       "1   1  FLYNN: Hillary Clinton, Big Woman on Campus - ...     Daniel J. Flynn   \n",
       "2   2                  Why the Truth Might Get You Fired  Consortiumnews.com   \n",
       "3   3  15 Civilians Killed In Single US Airstrike Hav...     Jessica Purkiss   \n",
       "4   4  Iranian woman jailed for fictional unpublished...      Howard Portnoy   \n",
       "\n",
       "                                                text  label  length  \\\n",
       "0  House Dem Aide: We Didn’t Even See Comey’s Let...      1    4930   \n",
       "1  Ever get the feeling your life circles the rou...      0    4160   \n",
       "2  Why the Truth Might Get You Fired October 29, ...      1    7692   \n",
       "3  Videos 15 Civilians Killed In Single US Airstr...      1    3237   \n",
       "4  Print \\nAn Iranian woman has been sentenced to...      1     938   \n",
       "\n",
       "   missing_title  missing_text  \n",
       "0              0             0  \n",
       "1              0             0  \n",
       "2              0             0  \n",
       "3              0             0  \n",
       "4              0             0  "
      ]
     },
     "execution_count": 56,
     "metadata": {},
     "output_type": "execute_result"
    }
   ],
   "source": [
    "train.head()"
   ]
  },
  {
   "cell_type": "code",
   "execution_count": 57,
   "id": "861dc947",
   "metadata": {},
   "outputs": [
    {
     "data": {
      "text/html": [
       "<div>\n",
       "<style scoped>\n",
       "    .dataframe tbody tr th:only-of-type {\n",
       "        vertical-align: middle;\n",
       "    }\n",
       "\n",
       "    .dataframe tbody tr th {\n",
       "        vertical-align: top;\n",
       "    }\n",
       "\n",
       "    .dataframe thead th {\n",
       "        text-align: right;\n",
       "    }\n",
       "</style>\n",
       "<table border=\"1\" class=\"dataframe\">\n",
       "  <thead>\n",
       "    <tr style=\"text-align: right;\">\n",
       "      <th></th>\n",
       "      <th>id</th>\n",
       "      <th>title</th>\n",
       "      <th>author</th>\n",
       "      <th>text</th>\n",
       "      <th>length</th>\n",
       "      <th>missing_title</th>\n",
       "      <th>missing_text</th>\n",
       "    </tr>\n",
       "  </thead>\n",
       "  <tbody>\n",
       "    <tr>\n",
       "      <th>0</th>\n",
       "      <td>20800</td>\n",
       "      <td>Specter of Trump Loosens Tongues, if Not Purse...</td>\n",
       "      <td>David Streitfeld</td>\n",
       "      <td>PALO ALTO, Calif.  —   After years of scorning...</td>\n",
       "      <td>8015</td>\n",
       "      <td>0</td>\n",
       "      <td>0</td>\n",
       "    </tr>\n",
       "    <tr>\n",
       "      <th>1</th>\n",
       "      <td>20801</td>\n",
       "      <td>Russian warships ready to strike terrorists ne...</td>\n",
       "      <td>NaN</td>\n",
       "      <td>Russian warships ready to strike terrorists ne...</td>\n",
       "      <td>1559</td>\n",
       "      <td>0</td>\n",
       "      <td>0</td>\n",
       "    </tr>\n",
       "    <tr>\n",
       "      <th>2</th>\n",
       "      <td>20802</td>\n",
       "      <td>#NoDAPL: Native American Leaders Vow to Stay A...</td>\n",
       "      <td>Common Dreams</td>\n",
       "      <td>Videos #NoDAPL: Native American Leaders Vow to...</td>\n",
       "      <td>4547</td>\n",
       "      <td>0</td>\n",
       "      <td>0</td>\n",
       "    </tr>\n",
       "    <tr>\n",
       "      <th>3</th>\n",
       "      <td>20803</td>\n",
       "      <td>Tim Tebow Will Attempt Another Comeback, This ...</td>\n",
       "      <td>Daniel Victor</td>\n",
       "      <td>If at first you don’t succeed, try a different...</td>\n",
       "      <td>3578</td>\n",
       "      <td>0</td>\n",
       "      <td>0</td>\n",
       "    </tr>\n",
       "    <tr>\n",
       "      <th>4</th>\n",
       "      <td>20804</td>\n",
       "      <td>Keiser Report: Meme Wars (E995)</td>\n",
       "      <td>Truth Broadcast Network</td>\n",
       "      <td>42 mins ago 1 Views 0 Comments 0 Likes 'For th...</td>\n",
       "      <td>542</td>\n",
       "      <td>0</td>\n",
       "      <td>0</td>\n",
       "    </tr>\n",
       "  </tbody>\n",
       "</table>\n",
       "</div>"
      ],
      "text/plain": [
       "      id                                              title  \\\n",
       "0  20800  Specter of Trump Loosens Tongues, if Not Purse...   \n",
       "1  20801  Russian warships ready to strike terrorists ne...   \n",
       "2  20802  #NoDAPL: Native American Leaders Vow to Stay A...   \n",
       "3  20803  Tim Tebow Will Attempt Another Comeback, This ...   \n",
       "4  20804                    Keiser Report: Meme Wars (E995)   \n",
       "\n",
       "                    author                                               text  \\\n",
       "0         David Streitfeld  PALO ALTO, Calif.  —   After years of scorning...   \n",
       "1                      NaN  Russian warships ready to strike terrorists ne...   \n",
       "2            Common Dreams  Videos #NoDAPL: Native American Leaders Vow to...   \n",
       "3            Daniel Victor  If at first you don’t succeed, try a different...   \n",
       "4  Truth Broadcast Network  42 mins ago 1 Views 0 Comments 0 Likes 'For th...   \n",
       "\n",
       "   length  missing_title  missing_text  \n",
       "0    8015              0             0  \n",
       "1    1559              0             0  \n",
       "2    4547              0             0  \n",
       "3    3578              0             0  \n",
       "4     542              0             0  "
      ]
     },
     "execution_count": 57,
     "metadata": {},
     "output_type": "execute_result"
    }
   ],
   "source": [
    "test.head()"
   ]
  },
  {
   "cell_type": "markdown",
   "id": "98c91622",
   "metadata": {},
   "source": [
    "### Model Design"
   ]
  },
  {
   "cell_type": "markdown",
   "id": "d342290b",
   "metadata": {},
   "source": [
    "Since the id field has no correlation with our output label, this feature will not be used for modeling."
   ]
  },
  {
   "cell_type": "markdown",
   "id": "7a23a151",
   "metadata": {},
   "source": [
    "#### Data Pre-processing\n",
    "- The train data provided is in text/string format.\n",
    "- On a broader level, following techniques are applied to preprocess text data:\n",
    "    - Noise Removal\n",
    "    - Normalization\n",
    "    - Tokenization\n",
    "\n",
    "Following are some of the text preprocessing techniques that can be used:\n",
    "- Remove HTML tags (e.g. \\<br\\>)\n",
    "- Remove extra whitespaces\n",
    "- Convert accented characters to ASCII characters (e.g. résumé to resume)\n",
    "- Expand contractions (e.g. \"don't\" to \"do not\")\n",
    "- Remove special characters\n",
    "- Lowercase all text\n",
    "- Remove numbers\n",
    "- Remove stop words\n",
    "- Stemming / Lemmatization\n",
    "- Tokenization"
   ]
  },
  {
   "cell_type": "markdown",
   "id": "5e092ccd",
   "metadata": {},
   "source": [
    "As this is not a critical usecase, initially apply only the following preprocessing techniques to the data:\n",
    "- Lowercase the text\n",
    "- Remove english stop words\n",
    "- Tokenization\n",
    "\n",
    "Other comments:\n",
    "- Data does not have HTML tags so that is not required. \n",
    "- Extra whitespaces will be taken care of during tokenization.\n",
    "- Numbers are not to be eliminated.\n",
    "- Skipping expanding contractions and stemming/lemmatization. These can be added later if results are not up to the mark. \n",
    "\n",
    "For this use case, it seems that the basic preprocessing would be sufficient."
   ]
  },
  {
   "cell_type": "code",
   "execution_count": 59,
   "id": "e8f46a94",
   "metadata": {},
   "outputs": [],
   "source": [
    "# remove the nan values and replace them with blanks\n",
    "train = train.fillna('')\n",
    "test = test.fillna('')"
   ]
  },
  {
   "cell_type": "markdown",
   "id": "32c15be1",
   "metadata": {},
   "source": [
    "- Use tfidfvectorizer to preprocess the data and convert it to numeric format which can then be used for modeling.\n",
    "- The function takes input parameters to convert the data to lowercase and remove english stop words.\n",
    "- The words are tokenized and their tfidf values are returned across all documents/articles."
   ]
  },
  {
   "cell_type": "code",
   "execution_count": 60,
   "id": "13ceae0e",
   "metadata": {},
   "outputs": [
    {
     "data": {
      "text/plain": [
       "(20800, 41)"
      ]
     },
     "execution_count": 60,
     "metadata": {},
     "output_type": "execute_result"
    }
   ],
   "source": [
    "# preprocess the title column\n",
    "title_vectorizer = TfidfVectorizer(lowercase=True, stop_words='english', max_df=0.75, min_df=0.01)\n",
    "title_vectors = title_vectorizer.fit_transform(train['title'])\n",
    "title_df = pd.DataFrame(title_vectors.todense())\n",
    "title_df.shape"
   ]
  },
  {
   "cell_type": "code",
   "execution_count": 61,
   "id": "21290e94",
   "metadata": {},
   "outputs": [
    {
     "data": {
      "text/plain": [
       "(20800, 462)"
      ]
     },
     "execution_count": 61,
     "metadata": {},
     "output_type": "execute_result"
    }
   ],
   "source": [
    "# preprocess the author column\n",
    "author_vectorizer = TfidfVectorizer(lowercase=True, stop_words='english', max_df=0.75, min_df=0.001)\n",
    "author_vectors = author_vectorizer.fit_transform(train['author'])\n",
    "author_df = pd.DataFrame(author_vectors.todense())\n",
    "author_df.shape"
   ]
  },
  {
   "cell_type": "code",
   "execution_count": 62,
   "id": "435cba02",
   "metadata": {},
   "outputs": [
    {
     "data": {
      "text/plain": [
       "(20800, 980)"
      ]
     },
     "execution_count": 62,
     "metadata": {},
     "output_type": "execute_result"
    }
   ],
   "source": [
    "# preprocess the text column\n",
    "text_vectorizer = TfidfVectorizer(lowercase=True, stop_words='english', max_df=0.75, min_df=0.05)\n",
    "text_vectors = text_vectorizer.fit_transform(train['text'])\n",
    "text_df = pd.DataFrame(text_vectors.todense())\n",
    "text_df.shape"
   ]
  },
  {
   "cell_type": "markdown",
   "id": "3d007812",
   "metadata": {},
   "source": [
    "- max_df and min_df parameters are used to reduce the vocabulary size. \n",
    "- max_df will ignore the tokens which appear in more than given percentage of the articles\n",
    "- min_df will ignore the tokens which appear in less than given percentage of the articles"
   ]
  },
  {
   "cell_type": "markdown",
   "id": "cef6d2ff",
   "metadata": {},
   "source": [
    "Separate vectorizers are used for different features as those would be reused to fit the test data"
   ]
  },
  {
   "cell_type": "markdown",
   "id": "7f4f1dfd",
   "metadata": {},
   "source": [
    "Title, Author and Text column have been processed. Concat these with the other columns created in feature engineering and create a new dataframe."
   ]
  },
  {
   "cell_type": "code",
   "execution_count": 64,
   "id": "3430822b",
   "metadata": {},
   "outputs": [
    {
     "data": {
      "text/plain": [
       "(20800, 1487)"
      ]
     },
     "execution_count": 64,
     "metadata": {},
     "output_type": "execute_result"
    }
   ],
   "source": [
    "train_data = pd.concat([train[['length','missing_title','missing_text']], title_df, author_df, text_df, train['label']], axis=1)\n",
    "train_data.shape"
   ]
  },
  {
   "cell_type": "code",
   "execution_count": 65,
   "id": "52163f60",
   "metadata": {},
   "outputs": [
    {
     "data": {
      "text/html": [
       "<div>\n",
       "<style scoped>\n",
       "    .dataframe tbody tr th:only-of-type {\n",
       "        vertical-align: middle;\n",
       "    }\n",
       "\n",
       "    .dataframe tbody tr th {\n",
       "        vertical-align: top;\n",
       "    }\n",
       "\n",
       "    .dataframe thead th {\n",
       "        text-align: right;\n",
       "    }\n",
       "</style>\n",
       "<table border=\"1\" class=\"dataframe\">\n",
       "  <thead>\n",
       "    <tr style=\"text-align: right;\">\n",
       "      <th></th>\n",
       "      <th>length</th>\n",
       "      <th>missing_title</th>\n",
       "      <th>missing_text</th>\n",
       "      <th>0</th>\n",
       "      <th>1</th>\n",
       "      <th>2</th>\n",
       "      <th>3</th>\n",
       "      <th>4</th>\n",
       "      <th>5</th>\n",
       "      <th>6</th>\n",
       "      <th>...</th>\n",
       "      <th>971</th>\n",
       "      <th>972</th>\n",
       "      <th>973</th>\n",
       "      <th>974</th>\n",
       "      <th>975</th>\n",
       "      <th>976</th>\n",
       "      <th>977</th>\n",
       "      <th>978</th>\n",
       "      <th>979</th>\n",
       "      <th>label</th>\n",
       "    </tr>\n",
       "  </thead>\n",
       "  <tbody>\n",
       "    <tr>\n",
       "      <th>0</th>\n",
       "      <td>4930</td>\n",
       "      <td>0</td>\n",
       "      <td>0</td>\n",
       "      <td>0.0</td>\n",
       "      <td>0.0</td>\n",
       "      <td>0.0</td>\n",
       "      <td>0.0</td>\n",
       "      <td>0.0</td>\n",
       "      <td>0.0</td>\n",
       "      <td>0.000000</td>\n",
       "      <td>...</td>\n",
       "      <td>0.0</td>\n",
       "      <td>0.000000</td>\n",
       "      <td>0.0</td>\n",
       "      <td>0.0</td>\n",
       "      <td>0.027646</td>\n",
       "      <td>0.026377</td>\n",
       "      <td>0.0</td>\n",
       "      <td>0.0</td>\n",
       "      <td>0.0</td>\n",
       "      <td>1</td>\n",
       "    </tr>\n",
       "    <tr>\n",
       "      <th>1</th>\n",
       "      <td>4160</td>\n",
       "      <td>0</td>\n",
       "      <td>0</td>\n",
       "      <td>0.0</td>\n",
       "      <td>0.0</td>\n",
       "      <td>0.0</td>\n",
       "      <td>0.0</td>\n",
       "      <td>0.0</td>\n",
       "      <td>0.0</td>\n",
       "      <td>0.506115</td>\n",
       "      <td>...</td>\n",
       "      <td>0.0</td>\n",
       "      <td>0.000000</td>\n",
       "      <td>0.0</td>\n",
       "      <td>0.0</td>\n",
       "      <td>0.000000</td>\n",
       "      <td>0.038445</td>\n",
       "      <td>0.0</td>\n",
       "      <td>0.0</td>\n",
       "      <td>0.0</td>\n",
       "      <td>0</td>\n",
       "    </tr>\n",
       "    <tr>\n",
       "      <th>2</th>\n",
       "      <td>7692</td>\n",
       "      <td>0</td>\n",
       "      <td>0</td>\n",
       "      <td>0.0</td>\n",
       "      <td>0.0</td>\n",
       "      <td>0.0</td>\n",
       "      <td>0.0</td>\n",
       "      <td>0.0</td>\n",
       "      <td>0.0</td>\n",
       "      <td>0.000000</td>\n",
       "      <td>...</td>\n",
       "      <td>0.0</td>\n",
       "      <td>0.000000</td>\n",
       "      <td>0.0</td>\n",
       "      <td>0.0</td>\n",
       "      <td>0.000000</td>\n",
       "      <td>0.017911</td>\n",
       "      <td>0.0</td>\n",
       "      <td>0.0</td>\n",
       "      <td>0.0</td>\n",
       "      <td>1</td>\n",
       "    </tr>\n",
       "    <tr>\n",
       "      <th>3</th>\n",
       "      <td>3237</td>\n",
       "      <td>0</td>\n",
       "      <td>0</td>\n",
       "      <td>0.0</td>\n",
       "      <td>0.0</td>\n",
       "      <td>0.0</td>\n",
       "      <td>0.0</td>\n",
       "      <td>0.0</td>\n",
       "      <td>0.0</td>\n",
       "      <td>0.000000</td>\n",
       "      <td>...</td>\n",
       "      <td>0.0</td>\n",
       "      <td>0.000000</td>\n",
       "      <td>0.0</td>\n",
       "      <td>0.0</td>\n",
       "      <td>0.000000</td>\n",
       "      <td>0.000000</td>\n",
       "      <td>0.0</td>\n",
       "      <td>0.0</td>\n",
       "      <td>0.0</td>\n",
       "      <td>1</td>\n",
       "    </tr>\n",
       "    <tr>\n",
       "      <th>4</th>\n",
       "      <td>938</td>\n",
       "      <td>0</td>\n",
       "      <td>0</td>\n",
       "      <td>0.0</td>\n",
       "      <td>0.0</td>\n",
       "      <td>0.0</td>\n",
       "      <td>0.0</td>\n",
       "      <td>0.0</td>\n",
       "      <td>0.0</td>\n",
       "      <td>0.000000</td>\n",
       "      <td>...</td>\n",
       "      <td>0.0</td>\n",
       "      <td>0.320161</td>\n",
       "      <td>0.0</td>\n",
       "      <td>0.0</td>\n",
       "      <td>0.088613</td>\n",
       "      <td>0.084545</td>\n",
       "      <td>0.0</td>\n",
       "      <td>0.0</td>\n",
       "      <td>0.0</td>\n",
       "      <td>1</td>\n",
       "    </tr>\n",
       "  </tbody>\n",
       "</table>\n",
       "<p>5 rows × 1487 columns</p>\n",
       "</div>"
      ],
      "text/plain": [
       "   length  missing_title  missing_text    0    1    2    3    4    5  \\\n",
       "0    4930              0             0  0.0  0.0  0.0  0.0  0.0  0.0   \n",
       "1    4160              0             0  0.0  0.0  0.0  0.0  0.0  0.0   \n",
       "2    7692              0             0  0.0  0.0  0.0  0.0  0.0  0.0   \n",
       "3    3237              0             0  0.0  0.0  0.0  0.0  0.0  0.0   \n",
       "4     938              0             0  0.0  0.0  0.0  0.0  0.0  0.0   \n",
       "\n",
       "          6  ...  971       972  973  974       975       976  977  978  979  \\\n",
       "0  0.000000  ...  0.0  0.000000  0.0  0.0  0.027646  0.026377  0.0  0.0  0.0   \n",
       "1  0.506115  ...  0.0  0.000000  0.0  0.0  0.000000  0.038445  0.0  0.0  0.0   \n",
       "2  0.000000  ...  0.0  0.000000  0.0  0.0  0.000000  0.017911  0.0  0.0  0.0   \n",
       "3  0.000000  ...  0.0  0.000000  0.0  0.0  0.000000  0.000000  0.0  0.0  0.0   \n",
       "4  0.000000  ...  0.0  0.320161  0.0  0.0  0.088613  0.084545  0.0  0.0  0.0   \n",
       "\n",
       "   label  \n",
       "0      1  \n",
       "1      0  \n",
       "2      1  \n",
       "3      1  \n",
       "4      1  \n",
       "\n",
       "[5 rows x 1487 columns]"
      ]
     },
     "execution_count": 65,
     "metadata": {},
     "output_type": "execute_result"
    }
   ],
   "source": [
    "train_data.head()"
   ]
  },
  {
   "cell_type": "code",
   "execution_count": 149,
   "id": "6d1e5794",
   "metadata": {},
   "outputs": [],
   "source": [
    "# separate features and labels\n",
    "X = train_data.iloc[:,:-1].values\n",
    "y = train_data.iloc[:,-1].values"
   ]
  },
  {
   "cell_type": "code",
   "execution_count": 150,
   "id": "1765dad9",
   "metadata": {},
   "outputs": [],
   "source": [
    "# splitting the dataset into the training set and test set\n",
    "X_train, X_test, y_train, y_test = train_test_split(X, y, test_size=0.3, random_state=0)"
   ]
  },
  {
   "cell_type": "code",
   "execution_count": 151,
   "id": "93e1818e",
   "metadata": {},
   "outputs": [],
   "source": [
    "# apply feature scaling\n",
    "sc = StandardScaler()\n",
    "X_train = sc.fit_transform(X_train)\n",
    "# for X_test, do not fit the scaler again; fit on training and use the same for test set to avoid data leakage\n",
    "X_test = sc.transform(X_test)"
   ]
  },
  {
   "cell_type": "markdown",
   "id": "1463072d",
   "metadata": {},
   "source": [
    "### Model Implementation"
   ]
  },
  {
   "cell_type": "markdown",
   "id": "c452659c",
   "metadata": {},
   "source": [
    "Implementing various classification models and keeping a record of their performance.\n",
    "Then use the best model among these for final submission."
   ]
  },
  {
   "cell_type": "code",
   "execution_count": 79,
   "id": "525cdf79",
   "metadata": {},
   "outputs": [
    {
     "data": {
      "text/plain": [
       "LogisticRegression(random_state=0)"
      ]
     },
     "execution_count": 79,
     "metadata": {},
     "output_type": "execute_result"
    }
   ],
   "source": [
    "# training the Logistic Regression model on the training set\n",
    "classifier = LogisticRegression(random_state=0)\n",
    "classifier.fit(X_train, y_train)"
   ]
  },
  {
   "cell_type": "code",
   "execution_count": 83,
   "id": "9c41a0bb",
   "metadata": {},
   "outputs": [
    {
     "data": {
      "text/plain": [
       "KNeighborsClassifier()"
      ]
     },
     "execution_count": 83,
     "metadata": {},
     "output_type": "execute_result"
    }
   ],
   "source": [
    "# training the K-NN model on the training set\n",
    "classifier = KNeighborsClassifier(n_neighbors=5, metric='minkowski', p=2)\n",
    "classifier.fit(X_train, y_train)"
   ]
  },
  {
   "cell_type": "code",
   "execution_count": 87,
   "id": "da4de915",
   "metadata": {},
   "outputs": [
    {
     "data": {
      "text/plain": [
       "SVC(kernel='linear', random_state=0)"
      ]
     },
     "execution_count": 87,
     "metadata": {},
     "output_type": "execute_result"
    }
   ],
   "source": [
    "# training the SVM model on the training set\n",
    "classifier = SVC(kernel='linear', random_state=0)\n",
    "classifier.fit(X_train, y_train)"
   ]
  },
  {
   "cell_type": "code",
   "execution_count": 152,
   "id": "34009d44",
   "metadata": {},
   "outputs": [
    {
     "data": {
      "text/plain": [
       "SVC(random_state=0)"
      ]
     },
     "execution_count": 152,
     "metadata": {},
     "output_type": "execute_result"
    }
   ],
   "source": [
    "# training the Kernel SVM model on the training set\n",
    "classifier = SVC(kernel='rbf', random_state=0)\n",
    "classifier.fit(X_train, y_train)"
   ]
  },
  {
   "cell_type": "code",
   "execution_count": 95,
   "id": "08c6ed08",
   "metadata": {},
   "outputs": [
    {
     "data": {
      "text/plain": [
       "GaussianNB()"
      ]
     },
     "execution_count": 95,
     "metadata": {},
     "output_type": "execute_result"
    }
   ],
   "source": [
    "# training the Naive Bayes model on the training set\n",
    "classifier = GaussianNB()\n",
    "classifier.fit(X_train, y_train)"
   ]
  },
  {
   "cell_type": "code",
   "execution_count": 99,
   "id": "b0458f1a",
   "metadata": {},
   "outputs": [
    {
     "data": {
      "text/plain": [
       "MLPClassifier(random_state=0)"
      ]
     },
     "execution_count": 99,
     "metadata": {},
     "output_type": "execute_result"
    }
   ],
   "source": [
    "# training the Multi-layer Perceptron model on the training set\n",
    "classifier = MLPClassifier(random_state=0)\n",
    "classifier.fit(X_train, y_train)"
   ]
  },
  {
   "cell_type": "code",
   "execution_count": 103,
   "id": "069e4ede",
   "metadata": {},
   "outputs": [
    {
     "data": {
      "text/plain": [
       "DecisionTreeClassifier(criterion='entropy', random_state=0)"
      ]
     },
     "execution_count": 103,
     "metadata": {},
     "output_type": "execute_result"
    }
   ],
   "source": [
    "# training the Decision Tree Classification model on the training set\n",
    "classifier = DecisionTreeClassifier(criterion='entropy', random_state=0)\n",
    "classifier.fit(X_train, y_train)"
   ]
  },
  {
   "cell_type": "code",
   "execution_count": 107,
   "id": "76a31845",
   "metadata": {},
   "outputs": [
    {
     "data": {
      "text/plain": [
       "RandomForestClassifier(random_state=0)"
      ]
     },
     "execution_count": 107,
     "metadata": {},
     "output_type": "execute_result"
    }
   ],
   "source": [
    "# training the Random Forest Classification model on the training set\n",
    "classifier = RandomForestClassifier(random_state=0)\n",
    "classifier.fit(X_train, y_train)"
   ]
  },
  {
   "cell_type": "code",
   "execution_count": 111,
   "id": "e2dcd21c",
   "metadata": {},
   "outputs": [
    {
     "data": {
      "text/plain": [
       "AdaBoostClassifier(random_state=0)"
      ]
     },
     "execution_count": 111,
     "metadata": {},
     "output_type": "execute_result"
    }
   ],
   "source": [
    "# training the AdaBoost Classification model on the training set\n",
    "classifier = AdaBoostClassifier(random_state=0)\n",
    "classifier.fit(X_train, y_train)"
   ]
  },
  {
   "cell_type": "code",
   "execution_count": 147,
   "id": "bbbed6e4",
   "metadata": {},
   "outputs": [
    {
     "data": {
      "text/plain": [
       "XGBClassifier(base_score=0.5, booster='gbtree', colsample_bylevel=1,\n",
       "              colsample_bynode=1, colsample_bytree=1, eval_metric='error',\n",
       "              gamma=0, gpu_id=-1, importance_type='gain',\n",
       "              interaction_constraints='', learning_rate=0.300000012,\n",
       "              max_delta_step=0, max_depth=6, min_child_weight=1, missing=nan,\n",
       "              monotone_constraints='()', n_estimators=100, n_jobs=6,\n",
       "              num_parallel_tree=1, random_state=0, reg_alpha=0, reg_lambda=1,\n",
       "              scale_pos_weight=1, subsample=1, tree_method='exact',\n",
       "              use_label_encoder=False, validate_parameters=1, verbosity=None)"
      ]
     },
     "execution_count": 147,
     "metadata": {},
     "output_type": "execute_result"
    }
   ],
   "source": [
    "# training XGBoost Classification model on the training set\n",
    "classifier = XGBClassifier(use_label_encoder=False, eval_metric='error', random_state=0)\n",
    "classifier.fit(X_train, y_train)"
   ]
  },
  {
   "cell_type": "code",
   "execution_count": 119,
   "id": "8f5af79d",
   "metadata": {
    "scrolled": true
   },
   "outputs": [
    {
     "name": "stdout",
     "output_type": "stream",
     "text": [
      "Learning rate set to 0.03233\n",
      "0:\tlearn: 0.6439556\ttotal: 347ms\tremaining: 5m 46s\n",
      "1:\tlearn: 0.5937042\ttotal: 524ms\tremaining: 4m 21s\n",
      "2:\tlearn: 0.5467400\ttotal: 646ms\tremaining: 3m 34s\n",
      "3:\tlearn: 0.5094296\ttotal: 756ms\tremaining: 3m 8s\n",
      "4:\tlearn: 0.4741978\ttotal: 883ms\tremaining: 2m 55s\n",
      "5:\tlearn: 0.4451162\ttotal: 1.01s\tremaining: 2m 46s\n",
      "6:\tlearn: 0.4156356\ttotal: 1.12s\tremaining: 2m 38s\n",
      "7:\tlearn: 0.3855722\ttotal: 1.24s\tremaining: 2m 33s\n",
      "8:\tlearn: 0.3620792\ttotal: 1.36s\tremaining: 2m 29s\n",
      "9:\tlearn: 0.3398296\ttotal: 1.48s\tremaining: 2m 26s\n",
      "10:\tlearn: 0.3211546\ttotal: 1.6s\tremaining: 2m 23s\n",
      "11:\tlearn: 0.3056394\ttotal: 1.72s\tremaining: 2m 21s\n",
      "12:\tlearn: 0.2910096\ttotal: 1.82s\tremaining: 2m 18s\n",
      "13:\tlearn: 0.2775019\ttotal: 1.95s\tremaining: 2m 17s\n",
      "14:\tlearn: 0.2669768\ttotal: 2.07s\tremaining: 2m 16s\n",
      "15:\tlearn: 0.2557441\ttotal: 2.19s\tremaining: 2m 14s\n",
      "16:\tlearn: 0.2441999\ttotal: 2.31s\tremaining: 2m 13s\n",
      "17:\tlearn: 0.2344279\ttotal: 2.46s\tremaining: 2m 14s\n",
      "18:\tlearn: 0.2257358\ttotal: 2.6s\tremaining: 2m 14s\n",
      "19:\tlearn: 0.2183137\ttotal: 2.71s\tremaining: 2m 12s\n",
      "20:\tlearn: 0.2109668\ttotal: 2.82s\tremaining: 2m 11s\n",
      "21:\tlearn: 0.2036910\ttotal: 2.97s\tremaining: 2m 12s\n",
      "22:\tlearn: 0.1962398\ttotal: 3.09s\tremaining: 2m 11s\n",
      "23:\tlearn: 0.1913571\ttotal: 3.2s\tremaining: 2m 10s\n",
      "24:\tlearn: 0.1851014\ttotal: 3.31s\tremaining: 2m 9s\n",
      "25:\tlearn: 0.1803034\ttotal: 3.43s\tremaining: 2m 8s\n",
      "26:\tlearn: 0.1750850\ttotal: 3.55s\tremaining: 2m 7s\n",
      "27:\tlearn: 0.1703096\ttotal: 3.68s\tremaining: 2m 7s\n",
      "28:\tlearn: 0.1667791\ttotal: 3.79s\tremaining: 2m 7s\n",
      "29:\tlearn: 0.1634838\ttotal: 3.92s\tremaining: 2m 6s\n",
      "30:\tlearn: 0.1600265\ttotal: 4.04s\tremaining: 2m 6s\n",
      "31:\tlearn: 0.1573210\ttotal: 4.16s\tremaining: 2m 5s\n",
      "32:\tlearn: 0.1539206\ttotal: 4.28s\tremaining: 2m 5s\n",
      "33:\tlearn: 0.1513868\ttotal: 4.39s\tremaining: 2m 4s\n",
      "34:\tlearn: 0.1488124\ttotal: 4.51s\tremaining: 2m 4s\n",
      "35:\tlearn: 0.1460227\ttotal: 4.63s\tremaining: 2m 3s\n",
      "36:\tlearn: 0.1439679\ttotal: 4.74s\tremaining: 2m 3s\n",
      "37:\tlearn: 0.1417540\ttotal: 4.87s\tremaining: 2m 3s\n",
      "38:\tlearn: 0.1398753\ttotal: 5s\tremaining: 2m 3s\n",
      "39:\tlearn: 0.1382736\ttotal: 5.12s\tremaining: 2m 2s\n",
      "40:\tlearn: 0.1367879\ttotal: 5.23s\tremaining: 2m 2s\n",
      "41:\tlearn: 0.1349634\ttotal: 5.35s\tremaining: 2m 1s\n",
      "42:\tlearn: 0.1330391\ttotal: 5.47s\tremaining: 2m 1s\n",
      "43:\tlearn: 0.1317701\ttotal: 5.59s\tremaining: 2m 1s\n",
      "44:\tlearn: 0.1302953\ttotal: 5.7s\tremaining: 2m 1s\n",
      "45:\tlearn: 0.1285221\ttotal: 5.82s\tremaining: 2m\n",
      "46:\tlearn: 0.1271925\ttotal: 5.94s\tremaining: 2m\n",
      "47:\tlearn: 0.1258893\ttotal: 6.07s\tremaining: 2m\n",
      "48:\tlearn: 0.1246348\ttotal: 6.19s\tremaining: 2m\n",
      "49:\tlearn: 0.1234131\ttotal: 6.31s\tremaining: 1m 59s\n",
      "50:\tlearn: 0.1220063\ttotal: 6.43s\tremaining: 1m 59s\n",
      "51:\tlearn: 0.1207127\ttotal: 6.55s\tremaining: 1m 59s\n",
      "52:\tlearn: 0.1197445\ttotal: 6.66s\tremaining: 1m 59s\n",
      "53:\tlearn: 0.1186367\ttotal: 6.79s\tremaining: 1m 58s\n",
      "54:\tlearn: 0.1172683\ttotal: 6.93s\tremaining: 1m 59s\n",
      "55:\tlearn: 0.1160103\ttotal: 7.05s\tremaining: 1m 58s\n",
      "56:\tlearn: 0.1151808\ttotal: 7.17s\tremaining: 1m 58s\n",
      "57:\tlearn: 0.1144290\ttotal: 7.27s\tremaining: 1m 58s\n",
      "58:\tlearn: 0.1133054\ttotal: 7.41s\tremaining: 1m 58s\n",
      "59:\tlearn: 0.1124336\ttotal: 7.52s\tremaining: 1m 57s\n",
      "60:\tlearn: 0.1113002\ttotal: 7.63s\tremaining: 1m 57s\n",
      "61:\tlearn: 0.1103141\ttotal: 7.75s\tremaining: 1m 57s\n",
      "62:\tlearn: 0.1092545\ttotal: 7.88s\tremaining: 1m 57s\n",
      "63:\tlearn: 0.1083454\ttotal: 8.02s\tremaining: 1m 57s\n",
      "64:\tlearn: 0.1075019\ttotal: 8.13s\tremaining: 1m 57s\n",
      "65:\tlearn: 0.1064659\ttotal: 8.25s\tremaining: 1m 56s\n",
      "66:\tlearn: 0.1053053\ttotal: 8.36s\tremaining: 1m 56s\n",
      "67:\tlearn: 0.1045428\ttotal: 8.48s\tremaining: 1m 56s\n",
      "68:\tlearn: 0.1035923\ttotal: 8.6s\tremaining: 1m 55s\n",
      "69:\tlearn: 0.1026931\ttotal: 8.71s\tremaining: 1m 55s\n",
      "70:\tlearn: 0.1020367\ttotal: 8.83s\tremaining: 1m 55s\n",
      "71:\tlearn: 0.1012404\ttotal: 8.96s\tremaining: 1m 55s\n",
      "72:\tlearn: 0.1000891\ttotal: 9.09s\tremaining: 1m 55s\n",
      "73:\tlearn: 0.0992462\ttotal: 9.2s\tremaining: 1m 55s\n",
      "74:\tlearn: 0.0987302\ttotal: 9.31s\tremaining: 1m 54s\n",
      "75:\tlearn: 0.0981031\ttotal: 9.43s\tremaining: 1m 54s\n",
      "76:\tlearn: 0.0976078\ttotal: 9.54s\tremaining: 1m 54s\n",
      "77:\tlearn: 0.0969157\ttotal: 9.66s\tremaining: 1m 54s\n",
      "78:\tlearn: 0.0961613\ttotal: 9.78s\tremaining: 1m 53s\n",
      "79:\tlearn: 0.0953442\ttotal: 9.9s\tremaining: 1m 53s\n",
      "80:\tlearn: 0.0945125\ttotal: 10s\tremaining: 1m 53s\n",
      "81:\tlearn: 0.0940058\ttotal: 10.1s\tremaining: 1m 53s\n",
      "82:\tlearn: 0.0935389\ttotal: 10.3s\tremaining: 1m 53s\n",
      "83:\tlearn: 0.0929385\ttotal: 10.4s\tremaining: 1m 53s\n",
      "84:\tlearn: 0.0923040\ttotal: 10.5s\tremaining: 1m 52s\n",
      "85:\tlearn: 0.0915352\ttotal: 10.6s\tremaining: 1m 52s\n",
      "86:\tlearn: 0.0908803\ttotal: 10.7s\tremaining: 1m 52s\n",
      "87:\tlearn: 0.0904047\ttotal: 10.9s\tremaining: 1m 52s\n",
      "88:\tlearn: 0.0898564\ttotal: 11s\tremaining: 1m 52s\n",
      "89:\tlearn: 0.0893060\ttotal: 11.1s\tremaining: 1m 52s\n",
      "90:\tlearn: 0.0886835\ttotal: 11.2s\tremaining: 1m 52s\n",
      "91:\tlearn: 0.0881286\ttotal: 11.3s\tremaining: 1m 51s\n",
      "92:\tlearn: 0.0876564\ttotal: 11.4s\tremaining: 1m 51s\n",
      "93:\tlearn: 0.0872681\ttotal: 11.6s\tremaining: 1m 51s\n",
      "94:\tlearn: 0.0867061\ttotal: 11.7s\tremaining: 1m 51s\n",
      "95:\tlearn: 0.0862863\ttotal: 11.8s\tremaining: 1m 51s\n",
      "96:\tlearn: 0.0856179\ttotal: 11.9s\tremaining: 1m 51s\n",
      "97:\tlearn: 0.0851207\ttotal: 12.1s\tremaining: 1m 51s\n",
      "98:\tlearn: 0.0847135\ttotal: 12.2s\tremaining: 1m 50s\n",
      "99:\tlearn: 0.0841589\ttotal: 12.3s\tremaining: 1m 50s\n",
      "100:\tlearn: 0.0837862\ttotal: 12.4s\tremaining: 1m 50s\n",
      "101:\tlearn: 0.0831622\ttotal: 12.5s\tremaining: 1m 50s\n",
      "102:\tlearn: 0.0826676\ttotal: 12.6s\tremaining: 1m 50s\n",
      "103:\tlearn: 0.0821416\ttotal: 12.8s\tremaining: 1m 50s\n",
      "104:\tlearn: 0.0816440\ttotal: 12.9s\tremaining: 1m 49s\n",
      "105:\tlearn: 0.0812009\ttotal: 13s\tremaining: 1m 49s\n",
      "106:\tlearn: 0.0806532\ttotal: 13.1s\tremaining: 1m 49s\n",
      "107:\tlearn: 0.0801116\ttotal: 13.3s\tremaining: 1m 49s\n",
      "108:\tlearn: 0.0795002\ttotal: 13.4s\tremaining: 1m 49s\n",
      "109:\tlearn: 0.0792325\ttotal: 13.5s\tremaining: 1m 49s\n",
      "110:\tlearn: 0.0788565\ttotal: 13.6s\tremaining: 1m 48s\n",
      "111:\tlearn: 0.0785669\ttotal: 13.7s\tremaining: 1m 48s\n",
      "112:\tlearn: 0.0779417\ttotal: 13.9s\tremaining: 1m 48s\n",
      "113:\tlearn: 0.0776383\ttotal: 14s\tremaining: 1m 48s\n",
      "114:\tlearn: 0.0773491\ttotal: 14.1s\tremaining: 1m 48s\n",
      "115:\tlearn: 0.0768844\ttotal: 14.2s\tremaining: 1m 48s\n",
      "116:\tlearn: 0.0764621\ttotal: 14.3s\tremaining: 1m 48s\n",
      "117:\tlearn: 0.0759630\ttotal: 14.5s\tremaining: 1m 48s\n",
      "118:\tlearn: 0.0755216\ttotal: 14.6s\tremaining: 1m 47s\n",
      "119:\tlearn: 0.0749147\ttotal: 14.7s\tremaining: 1m 47s\n",
      "120:\tlearn: 0.0744048\ttotal: 14.8s\tremaining: 1m 47s\n",
      "121:\tlearn: 0.0741814\ttotal: 14.9s\tremaining: 1m 47s\n",
      "122:\tlearn: 0.0740336\ttotal: 15s\tremaining: 1m 47s\n",
      "123:\tlearn: 0.0735875\ttotal: 15.2s\tremaining: 1m 47s\n",
      "124:\tlearn: 0.0730940\ttotal: 15.3s\tremaining: 1m 47s\n",
      "125:\tlearn: 0.0727009\ttotal: 15.4s\tremaining: 1m 46s\n",
      "126:\tlearn: 0.0723447\ttotal: 15.5s\tremaining: 1m 46s\n",
      "127:\tlearn: 0.0720247\ttotal: 15.6s\tremaining: 1m 46s\n",
      "128:\tlearn: 0.0717485\ttotal: 15.8s\tremaining: 1m 46s\n",
      "129:\tlearn: 0.0713830\ttotal: 15.9s\tremaining: 1m 46s\n",
      "130:\tlearn: 0.0711322\ttotal: 16.1s\tremaining: 1m 46s\n",
      "131:\tlearn: 0.0708027\ttotal: 16.2s\tremaining: 1m 46s\n",
      "132:\tlearn: 0.0702124\ttotal: 16.3s\tremaining: 1m 46s\n",
      "133:\tlearn: 0.0699466\ttotal: 16.4s\tremaining: 1m 46s\n",
      "134:\tlearn: 0.0697672\ttotal: 16.5s\tremaining: 1m 45s\n",
      "135:\tlearn: 0.0693945\ttotal: 16.6s\tremaining: 1m 45s\n",
      "136:\tlearn: 0.0691095\ttotal: 16.8s\tremaining: 1m 45s\n",
      "137:\tlearn: 0.0689282\ttotal: 16.9s\tremaining: 1m 45s\n",
      "138:\tlearn: 0.0686162\ttotal: 17.1s\tremaining: 1m 45s\n",
      "139:\tlearn: 0.0683923\ttotal: 17.3s\tremaining: 1m 46s\n",
      "140:\tlearn: 0.0681229\ttotal: 17.4s\tremaining: 1m 46s\n",
      "141:\tlearn: 0.0678200\ttotal: 17.6s\tremaining: 1m 46s\n",
      "142:\tlearn: 0.0673534\ttotal: 17.8s\tremaining: 1m 46s\n",
      "143:\tlearn: 0.0670292\ttotal: 18s\tremaining: 1m 46s\n",
      "144:\tlearn: 0.0668075\ttotal: 18.2s\tremaining: 1m 47s\n",
      "145:\tlearn: 0.0663086\ttotal: 18.3s\tremaining: 1m 47s\n",
      "146:\tlearn: 0.0660811\ttotal: 18.5s\tremaining: 1m 47s\n",
      "147:\tlearn: 0.0658555\ttotal: 18.6s\tremaining: 1m 47s\n",
      "148:\tlearn: 0.0653737\ttotal: 18.8s\tremaining: 1m 47s\n",
      "149:\tlearn: 0.0650723\ttotal: 19s\tremaining: 1m 47s\n",
      "150:\tlearn: 0.0648380\ttotal: 19.1s\tremaining: 1m 47s\n",
      "151:\tlearn: 0.0646047\ttotal: 19.3s\tremaining: 1m 47s\n",
      "152:\tlearn: 0.0643500\ttotal: 19.5s\tremaining: 1m 47s\n",
      "153:\tlearn: 0.0641497\ttotal: 19.6s\tremaining: 1m 47s\n",
      "154:\tlearn: 0.0637223\ttotal: 19.7s\tremaining: 1m 47s\n",
      "155:\tlearn: 0.0635666\ttotal: 19.9s\tremaining: 1m 47s\n",
      "156:\tlearn: 0.0633131\ttotal: 20s\tremaining: 1m 47s\n",
      "157:\tlearn: 0.0631274\ttotal: 20.1s\tremaining: 1m 47s\n"
     ]
    },
    {
     "name": "stdout",
     "output_type": "stream",
     "text": [
      "158:\tlearn: 0.0629396\ttotal: 20.2s\tremaining: 1m 46s\n",
      "159:\tlearn: 0.0626138\ttotal: 20.3s\tremaining: 1m 46s\n",
      "160:\tlearn: 0.0624623\ttotal: 20.4s\tremaining: 1m 46s\n",
      "161:\tlearn: 0.0623118\ttotal: 20.6s\tremaining: 1m 46s\n",
      "162:\tlearn: 0.0620232\ttotal: 20.7s\tremaining: 1m 46s\n",
      "163:\tlearn: 0.0616283\ttotal: 20.8s\tremaining: 1m 46s\n",
      "164:\tlearn: 0.0614145\ttotal: 20.9s\tremaining: 1m 45s\n",
      "165:\tlearn: 0.0611040\ttotal: 21.1s\tremaining: 1m 45s\n",
      "166:\tlearn: 0.0608455\ttotal: 21.2s\tremaining: 1m 45s\n",
      "167:\tlearn: 0.0605409\ttotal: 21.3s\tremaining: 1m 45s\n",
      "168:\tlearn: 0.0602829\ttotal: 21.4s\tremaining: 1m 45s\n",
      "169:\tlearn: 0.0599321\ttotal: 21.5s\tremaining: 1m 45s\n",
      "170:\tlearn: 0.0596987\ttotal: 21.7s\tremaining: 1m 45s\n",
      "171:\tlearn: 0.0593175\ttotal: 21.9s\tremaining: 1m 45s\n",
      "172:\tlearn: 0.0591365\ttotal: 22.1s\tremaining: 1m 45s\n",
      "173:\tlearn: 0.0589327\ttotal: 22.2s\tremaining: 1m 45s\n",
      "174:\tlearn: 0.0586948\ttotal: 22.3s\tremaining: 1m 45s\n",
      "175:\tlearn: 0.0584673\ttotal: 22.4s\tremaining: 1m 44s\n",
      "176:\tlearn: 0.0581830\ttotal: 22.5s\tremaining: 1m 44s\n",
      "177:\tlearn: 0.0579391\ttotal: 22.6s\tremaining: 1m 44s\n",
      "178:\tlearn: 0.0576893\ttotal: 22.8s\tremaining: 1m 44s\n",
      "179:\tlearn: 0.0575400\ttotal: 22.9s\tremaining: 1m 44s\n",
      "180:\tlearn: 0.0572889\ttotal: 23s\tremaining: 1m 44s\n",
      "181:\tlearn: 0.0570671\ttotal: 23.2s\tremaining: 1m 44s\n",
      "182:\tlearn: 0.0569306\ttotal: 23.3s\tremaining: 1m 44s\n",
      "183:\tlearn: 0.0568052\ttotal: 23.4s\tremaining: 1m 43s\n",
      "184:\tlearn: 0.0565887\ttotal: 23.6s\tremaining: 1m 43s\n",
      "185:\tlearn: 0.0565015\ttotal: 23.7s\tremaining: 1m 43s\n",
      "186:\tlearn: 0.0563130\ttotal: 23.8s\tremaining: 1m 43s\n",
      "187:\tlearn: 0.0561159\ttotal: 23.9s\tremaining: 1m 43s\n",
      "188:\tlearn: 0.0558624\ttotal: 24s\tremaining: 1m 43s\n",
      "189:\tlearn: 0.0555493\ttotal: 24.1s\tremaining: 1m 42s\n",
      "190:\tlearn: 0.0553577\ttotal: 24.3s\tremaining: 1m 42s\n",
      "191:\tlearn: 0.0551570\ttotal: 24.4s\tremaining: 1m 42s\n",
      "192:\tlearn: 0.0549397\ttotal: 24.5s\tremaining: 1m 42s\n",
      "193:\tlearn: 0.0547499\ttotal: 24.6s\tremaining: 1m 42s\n",
      "194:\tlearn: 0.0545321\ttotal: 24.7s\tremaining: 1m 42s\n",
      "195:\tlearn: 0.0544233\ttotal: 24.8s\tremaining: 1m 41s\n",
      "196:\tlearn: 0.0542416\ttotal: 25s\tremaining: 1m 41s\n",
      "197:\tlearn: 0.0539771\ttotal: 25.1s\tremaining: 1m 41s\n",
      "198:\tlearn: 0.0538032\ttotal: 25.2s\tremaining: 1m 41s\n",
      "199:\tlearn: 0.0536571\ttotal: 25.4s\tremaining: 1m 41s\n",
      "200:\tlearn: 0.0534489\ttotal: 25.5s\tremaining: 1m 41s\n",
      "201:\tlearn: 0.0533158\ttotal: 25.6s\tremaining: 1m 41s\n",
      "202:\tlearn: 0.0531900\ttotal: 25.7s\tremaining: 1m 40s\n",
      "203:\tlearn: 0.0529711\ttotal: 25.8s\tremaining: 1m 40s\n",
      "204:\tlearn: 0.0528008\ttotal: 25.9s\tremaining: 1m 40s\n",
      "205:\tlearn: 0.0526204\ttotal: 26s\tremaining: 1m 40s\n",
      "206:\tlearn: 0.0525461\ttotal: 26.2s\tremaining: 1m 40s\n",
      "207:\tlearn: 0.0524284\ttotal: 26.3s\tremaining: 1m 40s\n",
      "208:\tlearn: 0.0520921\ttotal: 26.4s\tremaining: 1m 39s\n",
      "209:\tlearn: 0.0517720\ttotal: 26.5s\tremaining: 1m 39s\n",
      "210:\tlearn: 0.0516768\ttotal: 26.6s\tremaining: 1m 39s\n",
      "211:\tlearn: 0.0515132\ttotal: 26.8s\tremaining: 1m 39s\n",
      "212:\tlearn: 0.0513393\ttotal: 26.9s\tremaining: 1m 39s\n",
      "213:\tlearn: 0.0511525\ttotal: 27s\tremaining: 1m 39s\n",
      "214:\tlearn: 0.0510115\ttotal: 27.1s\tremaining: 1m 39s\n",
      "215:\tlearn: 0.0507469\ttotal: 27.2s\tremaining: 1m 38s\n",
      "216:\tlearn: 0.0505965\ttotal: 27.4s\tremaining: 1m 38s\n",
      "217:\tlearn: 0.0504195\ttotal: 27.5s\tremaining: 1m 38s\n",
      "218:\tlearn: 0.0502746\ttotal: 27.6s\tremaining: 1m 38s\n",
      "219:\tlearn: 0.0501789\ttotal: 27.7s\tremaining: 1m 38s\n",
      "220:\tlearn: 0.0500241\ttotal: 27.8s\tremaining: 1m 38s\n",
      "221:\tlearn: 0.0498385\ttotal: 28s\tremaining: 1m 38s\n",
      "222:\tlearn: 0.0496602\ttotal: 28.1s\tremaining: 1m 37s\n",
      "223:\tlearn: 0.0494900\ttotal: 28.2s\tremaining: 1m 37s\n",
      "224:\tlearn: 0.0493861\ttotal: 28.4s\tremaining: 1m 37s\n",
      "225:\tlearn: 0.0492389\ttotal: 28.6s\tremaining: 1m 37s\n",
      "226:\tlearn: 0.0490934\ttotal: 28.7s\tremaining: 1m 37s\n",
      "227:\tlearn: 0.0490175\ttotal: 29s\tremaining: 1m 38s\n",
      "228:\tlearn: 0.0487968\ttotal: 29.1s\tremaining: 1m 38s\n",
      "229:\tlearn: 0.0485758\ttotal: 29.3s\tremaining: 1m 37s\n",
      "230:\tlearn: 0.0485064\ttotal: 29.4s\tremaining: 1m 38s\n",
      "231:\tlearn: 0.0484001\ttotal: 29.6s\tremaining: 1m 37s\n",
      "232:\tlearn: 0.0483161\ttotal: 29.7s\tremaining: 1m 37s\n",
      "233:\tlearn: 0.0481537\ttotal: 29.8s\tremaining: 1m 37s\n",
      "234:\tlearn: 0.0479483\ttotal: 30s\tremaining: 1m 37s\n",
      "235:\tlearn: 0.0478276\ttotal: 30.1s\tremaining: 1m 37s\n",
      "236:\tlearn: 0.0476662\ttotal: 30.2s\tremaining: 1m 37s\n",
      "237:\tlearn: 0.0475241\ttotal: 30.3s\tremaining: 1m 37s\n",
      "238:\tlearn: 0.0474667\ttotal: 30.5s\tremaining: 1m 36s\n",
      "239:\tlearn: 0.0473350\ttotal: 30.6s\tremaining: 1m 36s\n",
      "240:\tlearn: 0.0472884\ttotal: 30.7s\tremaining: 1m 36s\n",
      "241:\tlearn: 0.0470803\ttotal: 30.8s\tremaining: 1m 36s\n",
      "242:\tlearn: 0.0469591\ttotal: 30.9s\tremaining: 1m 36s\n",
      "243:\tlearn: 0.0468273\ttotal: 31.1s\tremaining: 1m 36s\n",
      "244:\tlearn: 0.0467015\ttotal: 31.2s\tremaining: 1m 36s\n",
      "245:\tlearn: 0.0465962\ttotal: 31.3s\tremaining: 1m 35s\n",
      "246:\tlearn: 0.0462787\ttotal: 31.4s\tremaining: 1m 35s\n",
      "247:\tlearn: 0.0462059\ttotal: 31.6s\tremaining: 1m 35s\n",
      "248:\tlearn: 0.0460701\ttotal: 31.7s\tremaining: 1m 35s\n",
      "249:\tlearn: 0.0459150\ttotal: 31.8s\tremaining: 1m 35s\n",
      "250:\tlearn: 0.0458270\ttotal: 31.9s\tremaining: 1m 35s\n",
      "251:\tlearn: 0.0457188\ttotal: 32.1s\tremaining: 1m 35s\n",
      "252:\tlearn: 0.0456204\ttotal: 32.2s\tremaining: 1m 35s\n",
      "253:\tlearn: 0.0455010\ttotal: 32.4s\tremaining: 1m 35s\n",
      "254:\tlearn: 0.0452762\ttotal: 32.6s\tremaining: 1m 35s\n",
      "255:\tlearn: 0.0450807\ttotal: 32.8s\tremaining: 1m 35s\n",
      "256:\tlearn: 0.0449465\ttotal: 32.9s\tremaining: 1m 35s\n",
      "257:\tlearn: 0.0447420\ttotal: 33s\tremaining: 1m 34s\n",
      "258:\tlearn: 0.0446102\ttotal: 33.1s\tremaining: 1m 34s\n",
      "259:\tlearn: 0.0445325\ttotal: 33.2s\tremaining: 1m 34s\n",
      "260:\tlearn: 0.0443505\ttotal: 33.4s\tremaining: 1m 34s\n",
      "261:\tlearn: 0.0442931\ttotal: 33.5s\tremaining: 1m 34s\n",
      "262:\tlearn: 0.0441631\ttotal: 33.6s\tremaining: 1m 34s\n",
      "263:\tlearn: 0.0439786\ttotal: 33.8s\tremaining: 1m 34s\n",
      "264:\tlearn: 0.0438960\ttotal: 33.9s\tremaining: 1m 33s\n",
      "265:\tlearn: 0.0437988\ttotal: 34s\tremaining: 1m 33s\n",
      "266:\tlearn: 0.0435856\ttotal: 34.1s\tremaining: 1m 33s\n",
      "267:\tlearn: 0.0434465\ttotal: 34.2s\tremaining: 1m 33s\n",
      "268:\tlearn: 0.0433230\ttotal: 34.4s\tremaining: 1m 33s\n",
      "269:\tlearn: 0.0432306\ttotal: 34.5s\tremaining: 1m 33s\n",
      "270:\tlearn: 0.0430842\ttotal: 34.6s\tremaining: 1m 33s\n",
      "271:\tlearn: 0.0430277\ttotal: 34.7s\tremaining: 1m 32s\n",
      "272:\tlearn: 0.0429120\ttotal: 34.9s\tremaining: 1m 32s\n",
      "273:\tlearn: 0.0428039\ttotal: 35s\tremaining: 1m 32s\n",
      "274:\tlearn: 0.0427758\ttotal: 35.1s\tremaining: 1m 32s\n",
      "275:\tlearn: 0.0426661\ttotal: 35.2s\tremaining: 1m 32s\n",
      "276:\tlearn: 0.0425791\ttotal: 35.4s\tremaining: 1m 32s\n",
      "277:\tlearn: 0.0424604\ttotal: 35.5s\tremaining: 1m 32s\n",
      "278:\tlearn: 0.0423559\ttotal: 35.6s\tremaining: 1m 32s\n",
      "279:\tlearn: 0.0422260\ttotal: 35.8s\tremaining: 1m 31s\n",
      "280:\tlearn: 0.0421728\ttotal: 35.9s\tremaining: 1m 31s\n",
      "281:\tlearn: 0.0420618\ttotal: 36s\tremaining: 1m 31s\n",
      "282:\tlearn: 0.0419510\ttotal: 36.1s\tremaining: 1m 31s\n",
      "283:\tlearn: 0.0419286\ttotal: 36.2s\tremaining: 1m 31s\n",
      "284:\tlearn: 0.0416260\ttotal: 36.4s\tremaining: 1m 31s\n",
      "285:\tlearn: 0.0415893\ttotal: 36.5s\tremaining: 1m 31s\n",
      "286:\tlearn: 0.0415555\ttotal: 36.6s\tremaining: 1m 30s\n",
      "287:\tlearn: 0.0414664\ttotal: 36.7s\tremaining: 1m 30s\n",
      "288:\tlearn: 0.0414076\ttotal: 36.9s\tremaining: 1m 30s\n",
      "289:\tlearn: 0.0413740\ttotal: 37s\tremaining: 1m 30s\n",
      "290:\tlearn: 0.0412730\ttotal: 37.1s\tremaining: 1m 30s\n",
      "291:\tlearn: 0.0411333\ttotal: 37.2s\tremaining: 1m 30s\n",
      "292:\tlearn: 0.0409893\ttotal: 37.4s\tremaining: 1m 30s\n",
      "293:\tlearn: 0.0408820\ttotal: 37.5s\tremaining: 1m 30s\n",
      "294:\tlearn: 0.0407053\ttotal: 37.6s\tremaining: 1m 29s\n",
      "295:\tlearn: 0.0406815\ttotal: 37.7s\tremaining: 1m 29s\n",
      "296:\tlearn: 0.0405512\ttotal: 37.8s\tremaining: 1m 29s\n",
      "297:\tlearn: 0.0402987\ttotal: 38s\tremaining: 1m 29s\n",
      "298:\tlearn: 0.0401686\ttotal: 38.1s\tremaining: 1m 29s\n",
      "299:\tlearn: 0.0401274\ttotal: 38.2s\tremaining: 1m 29s\n",
      "300:\tlearn: 0.0400341\ttotal: 38.4s\tremaining: 1m 29s\n",
      "301:\tlearn: 0.0400159\ttotal: 38.5s\tremaining: 1m 28s\n",
      "302:\tlearn: 0.0397650\ttotal: 38.6s\tremaining: 1m 28s\n",
      "303:\tlearn: 0.0397062\ttotal: 38.7s\tremaining: 1m 28s\n",
      "304:\tlearn: 0.0395447\ttotal: 38.8s\tremaining: 1m 28s\n",
      "305:\tlearn: 0.0394864\ttotal: 39s\tremaining: 1m 28s\n",
      "306:\tlearn: 0.0393465\ttotal: 39.1s\tremaining: 1m 28s\n",
      "307:\tlearn: 0.0391389\ttotal: 39.2s\tremaining: 1m 28s\n",
      "308:\tlearn: 0.0390918\ttotal: 39.3s\tremaining: 1m 27s\n",
      "309:\tlearn: 0.0390151\ttotal: 39.4s\tremaining: 1m 27s\n",
      "310:\tlearn: 0.0389728\ttotal: 39.5s\tremaining: 1m 27s\n",
      "311:\tlearn: 0.0388899\ttotal: 39.6s\tremaining: 1m 27s\n",
      "312:\tlearn: 0.0388290\ttotal: 39.8s\tremaining: 1m 27s\n",
      "313:\tlearn: 0.0387246\ttotal: 39.9s\tremaining: 1m 27s\n",
      "314:\tlearn: 0.0386034\ttotal: 40s\tremaining: 1m 26s\n"
     ]
    },
    {
     "name": "stdout",
     "output_type": "stream",
     "text": [
      "315:\tlearn: 0.0385000\ttotal: 40.1s\tremaining: 1m 26s\n",
      "316:\tlearn: 0.0383872\ttotal: 40.2s\tremaining: 1m 26s\n",
      "317:\tlearn: 0.0383018\ttotal: 40.3s\tremaining: 1m 26s\n",
      "318:\tlearn: 0.0382038\ttotal: 40.5s\tremaining: 1m 26s\n",
      "319:\tlearn: 0.0381029\ttotal: 40.6s\tremaining: 1m 26s\n",
      "320:\tlearn: 0.0379817\ttotal: 40.7s\tremaining: 1m 26s\n",
      "321:\tlearn: 0.0378167\ttotal: 40.8s\tremaining: 1m 26s\n",
      "322:\tlearn: 0.0377555\ttotal: 41s\tremaining: 1m 25s\n",
      "323:\tlearn: 0.0377150\ttotal: 41.1s\tremaining: 1m 25s\n",
      "324:\tlearn: 0.0376439\ttotal: 41.2s\tremaining: 1m 25s\n",
      "325:\tlearn: 0.0375439\ttotal: 41.3s\tremaining: 1m 25s\n",
      "326:\tlearn: 0.0375041\ttotal: 41.4s\tremaining: 1m 25s\n",
      "327:\tlearn: 0.0373772\ttotal: 41.6s\tremaining: 1m 25s\n",
      "328:\tlearn: 0.0373167\ttotal: 41.7s\tremaining: 1m 25s\n",
      "329:\tlearn: 0.0372992\ttotal: 41.9s\tremaining: 1m 25s\n",
      "330:\tlearn: 0.0371977\ttotal: 42s\tremaining: 1m 24s\n",
      "331:\tlearn: 0.0371395\ttotal: 42.1s\tremaining: 1m 24s\n",
      "332:\tlearn: 0.0371157\ttotal: 42.2s\tremaining: 1m 24s\n",
      "333:\tlearn: 0.0370015\ttotal: 42.4s\tremaining: 1m 24s\n",
      "334:\tlearn: 0.0369401\ttotal: 42.5s\tremaining: 1m 24s\n",
      "335:\tlearn: 0.0368461\ttotal: 42.6s\tremaining: 1m 24s\n",
      "336:\tlearn: 0.0367390\ttotal: 42.7s\tremaining: 1m 24s\n",
      "337:\tlearn: 0.0366320\ttotal: 42.9s\tremaining: 1m 23s\n",
      "338:\tlearn: 0.0365404\ttotal: 43s\tremaining: 1m 23s\n",
      "339:\tlearn: 0.0365212\ttotal: 43.1s\tremaining: 1m 23s\n",
      "340:\tlearn: 0.0364274\ttotal: 43.2s\tremaining: 1m 23s\n",
      "341:\tlearn: 0.0363667\ttotal: 43.4s\tremaining: 1m 23s\n",
      "342:\tlearn: 0.0363178\ttotal: 43.5s\tremaining: 1m 23s\n",
      "343:\tlearn: 0.0362872\ttotal: 43.6s\tremaining: 1m 23s\n",
      "344:\tlearn: 0.0361355\ttotal: 43.7s\tremaining: 1m 22s\n",
      "345:\tlearn: 0.0360630\ttotal: 43.8s\tremaining: 1m 22s\n",
      "346:\tlearn: 0.0359741\ttotal: 43.9s\tremaining: 1m 22s\n",
      "347:\tlearn: 0.0358092\ttotal: 44s\tremaining: 1m 22s\n",
      "348:\tlearn: 0.0357785\ttotal: 44.2s\tremaining: 1m 22s\n",
      "349:\tlearn: 0.0355973\ttotal: 44.3s\tremaining: 1m 22s\n",
      "350:\tlearn: 0.0355503\ttotal: 44.4s\tremaining: 1m 22s\n",
      "351:\tlearn: 0.0355240\ttotal: 44.5s\tremaining: 1m 21s\n",
      "352:\tlearn: 0.0354443\ttotal: 44.6s\tremaining: 1m 21s\n",
      "353:\tlearn: 0.0353828\ttotal: 44.7s\tremaining: 1m 21s\n",
      "354:\tlearn: 0.0352358\ttotal: 44.9s\tremaining: 1m 21s\n",
      "355:\tlearn: 0.0350539\ttotal: 45s\tremaining: 1m 21s\n",
      "356:\tlearn: 0.0350261\ttotal: 45.2s\tremaining: 1m 21s\n",
      "357:\tlearn: 0.0349560\ttotal: 45.3s\tremaining: 1m 21s\n",
      "358:\tlearn: 0.0349277\ttotal: 45.4s\tremaining: 1m 21s\n",
      "359:\tlearn: 0.0348626\ttotal: 45.5s\tremaining: 1m 20s\n",
      "360:\tlearn: 0.0347888\ttotal: 45.7s\tremaining: 1m 20s\n",
      "361:\tlearn: 0.0347586\ttotal: 45.8s\tremaining: 1m 20s\n",
      "362:\tlearn: 0.0347415\ttotal: 46s\tremaining: 1m 20s\n",
      "363:\tlearn: 0.0346569\ttotal: 46.1s\tremaining: 1m 20s\n",
      "364:\tlearn: 0.0344729\ttotal: 46.2s\tremaining: 1m 20s\n",
      "365:\tlearn: 0.0344530\ttotal: 46.3s\tremaining: 1m 20s\n",
      "366:\tlearn: 0.0343599\ttotal: 46.5s\tremaining: 1m 20s\n",
      "367:\tlearn: 0.0343127\ttotal: 46.6s\tremaining: 1m 19s\n",
      "368:\tlearn: 0.0342641\ttotal: 46.7s\tremaining: 1m 19s\n",
      "369:\tlearn: 0.0341170\ttotal: 46.8s\tremaining: 1m 19s\n",
      "370:\tlearn: 0.0341033\ttotal: 46.9s\tremaining: 1m 19s\n",
      "371:\tlearn: 0.0339989\ttotal: 47.1s\tremaining: 1m 19s\n",
      "372:\tlearn: 0.0339526\ttotal: 47.2s\tremaining: 1m 19s\n",
      "373:\tlearn: 0.0339354\ttotal: 47.3s\tremaining: 1m 19s\n",
      "374:\tlearn: 0.0337660\ttotal: 47.4s\tremaining: 1m 19s\n",
      "375:\tlearn: 0.0337170\ttotal: 47.5s\tremaining: 1m 18s\n",
      "376:\tlearn: 0.0336968\ttotal: 47.7s\tremaining: 1m 18s\n",
      "377:\tlearn: 0.0336279\ttotal: 47.8s\tremaining: 1m 18s\n",
      "378:\tlearn: 0.0336080\ttotal: 47.9s\tremaining: 1m 18s\n",
      "379:\tlearn: 0.0335077\ttotal: 48s\tremaining: 1m 18s\n",
      "380:\tlearn: 0.0334186\ttotal: 48.2s\tremaining: 1m 18s\n",
      "381:\tlearn: 0.0333131\ttotal: 48.3s\tremaining: 1m 18s\n",
      "382:\tlearn: 0.0332578\ttotal: 48.4s\tremaining: 1m 17s\n",
      "383:\tlearn: 0.0332082\ttotal: 48.5s\tremaining: 1m 17s\n",
      "384:\tlearn: 0.0331199\ttotal: 48.6s\tremaining: 1m 17s\n",
      "385:\tlearn: 0.0330782\ttotal: 48.8s\tremaining: 1m 17s\n",
      "386:\tlearn: 0.0330638\ttotal: 48.9s\tremaining: 1m 17s\n",
      "387:\tlearn: 0.0330178\ttotal: 49s\tremaining: 1m 17s\n",
      "388:\tlearn: 0.0329518\ttotal: 49.2s\tremaining: 1m 17s\n",
      "389:\tlearn: 0.0329323\ttotal: 49.4s\tremaining: 1m 17s\n",
      "390:\tlearn: 0.0328810\ttotal: 49.7s\tremaining: 1m 17s\n",
      "391:\tlearn: 0.0328629\ttotal: 49.9s\tremaining: 1m 17s\n",
      "392:\tlearn: 0.0328362\ttotal: 50.1s\tremaining: 1m 17s\n",
      "393:\tlearn: 0.0327803\ttotal: 50.2s\tremaining: 1m 17s\n",
      "394:\tlearn: 0.0327627\ttotal: 50.4s\tremaining: 1m 17s\n",
      "395:\tlearn: 0.0327513\ttotal: 50.5s\tremaining: 1m 17s\n",
      "396:\tlearn: 0.0326833\ttotal: 50.7s\tremaining: 1m 16s\n",
      "397:\tlearn: 0.0326338\ttotal: 50.9s\tremaining: 1m 16s\n",
      "398:\tlearn: 0.0326116\ttotal: 51s\tremaining: 1m 16s\n",
      "399:\tlearn: 0.0325901\ttotal: 51.1s\tremaining: 1m 16s\n",
      "400:\tlearn: 0.0325168\ttotal: 51.3s\tremaining: 1m 16s\n",
      "401:\tlearn: 0.0324953\ttotal: 51.4s\tremaining: 1m 16s\n",
      "402:\tlearn: 0.0324035\ttotal: 51.5s\tremaining: 1m 16s\n",
      "403:\tlearn: 0.0323759\ttotal: 51.7s\tremaining: 1m 16s\n",
      "404:\tlearn: 0.0322793\ttotal: 51.8s\tremaining: 1m 16s\n",
      "405:\tlearn: 0.0321900\ttotal: 51.9s\tremaining: 1m 15s\n",
      "406:\tlearn: 0.0320892\ttotal: 52.1s\tremaining: 1m 15s\n",
      "407:\tlearn: 0.0320764\ttotal: 52.3s\tremaining: 1m 15s\n",
      "408:\tlearn: 0.0320515\ttotal: 52.5s\tremaining: 1m 15s\n",
      "409:\tlearn: 0.0319793\ttotal: 52.7s\tremaining: 1m 15s\n",
      "410:\tlearn: 0.0319156\ttotal: 52.9s\tremaining: 1m 15s\n",
      "411:\tlearn: 0.0318542\ttotal: 53s\tremaining: 1m 15s\n",
      "412:\tlearn: 0.0318118\ttotal: 53.2s\tremaining: 1m 15s\n",
      "413:\tlearn: 0.0316329\ttotal: 53.3s\tremaining: 1m 15s\n",
      "414:\tlearn: 0.0315929\ttotal: 53.5s\tremaining: 1m 15s\n",
      "415:\tlearn: 0.0315793\ttotal: 53.6s\tremaining: 1m 15s\n",
      "416:\tlearn: 0.0315337\ttotal: 53.8s\tremaining: 1m 15s\n",
      "417:\tlearn: 0.0314812\ttotal: 53.9s\tremaining: 1m 15s\n",
      "418:\tlearn: 0.0314670\ttotal: 54.1s\tremaining: 1m 14s\n",
      "419:\tlearn: 0.0313508\ttotal: 54.2s\tremaining: 1m 14s\n",
      "420:\tlearn: 0.0312876\ttotal: 54.4s\tremaining: 1m 14s\n",
      "421:\tlearn: 0.0312647\ttotal: 54.5s\tremaining: 1m 14s\n",
      "422:\tlearn: 0.0311768\ttotal: 54.7s\tremaining: 1m 14s\n",
      "423:\tlearn: 0.0311605\ttotal: 54.9s\tremaining: 1m 14s\n",
      "424:\tlearn: 0.0311352\ttotal: 55s\tremaining: 1m 14s\n",
      "425:\tlearn: 0.0311126\ttotal: 55.2s\tremaining: 1m 14s\n",
      "426:\tlearn: 0.0310586\ttotal: 55.5s\tremaining: 1m 14s\n",
      "427:\tlearn: 0.0310425\ttotal: 55.7s\tremaining: 1m 14s\n",
      "428:\tlearn: 0.0309195\ttotal: 56s\tremaining: 1m 14s\n",
      "429:\tlearn: 0.0309028\ttotal: 56.2s\tremaining: 1m 14s\n",
      "430:\tlearn: 0.0308575\ttotal: 56.5s\tremaining: 1m 14s\n",
      "431:\tlearn: 0.0308414\ttotal: 56.7s\tremaining: 1m 14s\n",
      "432:\tlearn: 0.0307466\ttotal: 56.9s\tremaining: 1m 14s\n",
      "433:\tlearn: 0.0307177\ttotal: 57s\tremaining: 1m 14s\n",
      "434:\tlearn: 0.0306408\ttotal: 57.2s\tremaining: 1m 14s\n",
      "435:\tlearn: 0.0306176\ttotal: 57.3s\tremaining: 1m 14s\n",
      "436:\tlearn: 0.0305878\ttotal: 57.5s\tremaining: 1m 14s\n",
      "437:\tlearn: 0.0305485\ttotal: 57.6s\tremaining: 1m 13s\n",
      "438:\tlearn: 0.0304880\ttotal: 57.7s\tremaining: 1m 13s\n",
      "439:\tlearn: 0.0304452\ttotal: 57.9s\tremaining: 1m 13s\n",
      "440:\tlearn: 0.0304290\ttotal: 58.1s\tremaining: 1m 13s\n",
      "441:\tlearn: 0.0303917\ttotal: 58.2s\tremaining: 1m 13s\n",
      "442:\tlearn: 0.0303678\ttotal: 58.3s\tremaining: 1m 13s\n",
      "443:\tlearn: 0.0303214\ttotal: 58.5s\tremaining: 1m 13s\n",
      "444:\tlearn: 0.0302598\ttotal: 58.6s\tremaining: 1m 13s\n",
      "445:\tlearn: 0.0302439\ttotal: 58.7s\tremaining: 1m 12s\n",
      "446:\tlearn: 0.0302218\ttotal: 58.9s\tremaining: 1m 12s\n",
      "447:\tlearn: 0.0302063\ttotal: 59s\tremaining: 1m 12s\n",
      "448:\tlearn: 0.0300696\ttotal: 59.1s\tremaining: 1m 12s\n",
      "449:\tlearn: 0.0300388\ttotal: 59.2s\tremaining: 1m 12s\n",
      "450:\tlearn: 0.0300227\ttotal: 59.3s\tremaining: 1m 12s\n",
      "451:\tlearn: 0.0299710\ttotal: 59.5s\tremaining: 1m 12s\n",
      "452:\tlearn: 0.0299213\ttotal: 59.6s\tremaining: 1m 11s\n",
      "453:\tlearn: 0.0298963\ttotal: 59.7s\tremaining: 1m 11s\n",
      "454:\tlearn: 0.0298532\ttotal: 59.8s\tremaining: 1m 11s\n",
      "455:\tlearn: 0.0298353\ttotal: 59.9s\tremaining: 1m 11s\n",
      "456:\tlearn: 0.0297521\ttotal: 1m\tremaining: 1m 11s\n",
      "457:\tlearn: 0.0297247\ttotal: 1m\tremaining: 1m 11s\n",
      "458:\tlearn: 0.0296644\ttotal: 1m\tremaining: 1m 11s\n",
      "459:\tlearn: 0.0295708\ttotal: 1m\tremaining: 1m 11s\n",
      "460:\tlearn: 0.0295521\ttotal: 1m\tremaining: 1m 10s\n",
      "461:\tlearn: 0.0294615\ttotal: 1m\tremaining: 1m 10s\n",
      "462:\tlearn: 0.0293951\ttotal: 1m\tremaining: 1m 10s\n",
      "463:\tlearn: 0.0293770\ttotal: 1m\tremaining: 1m 10s\n",
      "464:\tlearn: 0.0293568\ttotal: 1m 1s\tremaining: 1m 10s\n",
      "465:\tlearn: 0.0293096\ttotal: 1m 1s\tremaining: 1m 10s\n",
      "466:\tlearn: 0.0292963\ttotal: 1m 1s\tremaining: 1m 9s\n",
      "467:\tlearn: 0.0292766\ttotal: 1m 1s\tremaining: 1m 9s\n",
      "468:\tlearn: 0.0291448\ttotal: 1m 1s\tremaining: 1m 9s\n",
      "469:\tlearn: 0.0291279\ttotal: 1m 1s\tremaining: 1m 9s\n",
      "470:\tlearn: 0.0290724\ttotal: 1m 1s\tremaining: 1m 9s\n",
      "471:\tlearn: 0.0290151\ttotal: 1m 1s\tremaining: 1m 9s\n"
     ]
    },
    {
     "name": "stdout",
     "output_type": "stream",
     "text": [
      "472:\tlearn: 0.0289760\ttotal: 1m 2s\tremaining: 1m 9s\n",
      "473:\tlearn: 0.0289618\ttotal: 1m 2s\tremaining: 1m 8s\n",
      "474:\tlearn: 0.0289120\ttotal: 1m 2s\tremaining: 1m 8s\n",
      "475:\tlearn: 0.0288738\ttotal: 1m 2s\tremaining: 1m 8s\n",
      "476:\tlearn: 0.0288558\ttotal: 1m 2s\tremaining: 1m 8s\n",
      "477:\tlearn: 0.0287168\ttotal: 1m 2s\tremaining: 1m 8s\n",
      "478:\tlearn: 0.0286645\ttotal: 1m 2s\tremaining: 1m 8s\n",
      "479:\tlearn: 0.0286529\ttotal: 1m 2s\tremaining: 1m 8s\n",
      "480:\tlearn: 0.0285979\ttotal: 1m 2s\tremaining: 1m 7s\n",
      "481:\tlearn: 0.0285768\ttotal: 1m 3s\tremaining: 1m 7s\n",
      "482:\tlearn: 0.0285171\ttotal: 1m 3s\tremaining: 1m 7s\n",
      "483:\tlearn: 0.0284897\ttotal: 1m 3s\tremaining: 1m 7s\n",
      "484:\tlearn: 0.0284383\ttotal: 1m 3s\tremaining: 1m 7s\n",
      "485:\tlearn: 0.0284249\ttotal: 1m 3s\tremaining: 1m 7s\n",
      "486:\tlearn: 0.0283968\ttotal: 1m 3s\tremaining: 1m 7s\n",
      "487:\tlearn: 0.0283597\ttotal: 1m 3s\tremaining: 1m 6s\n",
      "488:\tlearn: 0.0283267\ttotal: 1m 3s\tremaining: 1m 6s\n",
      "489:\tlearn: 0.0282761\ttotal: 1m 3s\tremaining: 1m 6s\n",
      "490:\tlearn: 0.0281585\ttotal: 1m 4s\tremaining: 1m 6s\n",
      "491:\tlearn: 0.0281443\ttotal: 1m 4s\tremaining: 1m 6s\n",
      "492:\tlearn: 0.0280935\ttotal: 1m 4s\tremaining: 1m 6s\n",
      "493:\tlearn: 0.0280291\ttotal: 1m 4s\tremaining: 1m 6s\n",
      "494:\tlearn: 0.0279686\ttotal: 1m 4s\tremaining: 1m 5s\n",
      "495:\tlearn: 0.0278998\ttotal: 1m 4s\tremaining: 1m 5s\n",
      "496:\tlearn: 0.0276962\ttotal: 1m 4s\tremaining: 1m 5s\n",
      "497:\tlearn: 0.0276128\ttotal: 1m 4s\tremaining: 1m 5s\n",
      "498:\tlearn: 0.0275955\ttotal: 1m 5s\tremaining: 1m 5s\n",
      "499:\tlearn: 0.0275425\ttotal: 1m 5s\tremaining: 1m 5s\n",
      "500:\tlearn: 0.0275318\ttotal: 1m 5s\tremaining: 1m 5s\n",
      "501:\tlearn: 0.0274939\ttotal: 1m 5s\tremaining: 1m 4s\n",
      "502:\tlearn: 0.0274798\ttotal: 1m 5s\tremaining: 1m 4s\n",
      "503:\tlearn: 0.0273879\ttotal: 1m 5s\tremaining: 1m 4s\n",
      "504:\tlearn: 0.0273011\ttotal: 1m 5s\tremaining: 1m 4s\n",
      "505:\tlearn: 0.0272841\ttotal: 1m 5s\tremaining: 1m 4s\n",
      "506:\tlearn: 0.0272357\ttotal: 1m 6s\tremaining: 1m 4s\n",
      "507:\tlearn: 0.0271784\ttotal: 1m 6s\tremaining: 1m 4s\n",
      "508:\tlearn: 0.0271520\ttotal: 1m 6s\tremaining: 1m 3s\n",
      "509:\tlearn: 0.0271136\ttotal: 1m 6s\tremaining: 1m 3s\n",
      "510:\tlearn: 0.0270793\ttotal: 1m 6s\tremaining: 1m 3s\n",
      "511:\tlearn: 0.0270271\ttotal: 1m 6s\tremaining: 1m 3s\n",
      "512:\tlearn: 0.0270029\ttotal: 1m 6s\tremaining: 1m 3s\n",
      "513:\tlearn: 0.0269905\ttotal: 1m 6s\tremaining: 1m 3s\n",
      "514:\tlearn: 0.0269494\ttotal: 1m 6s\tremaining: 1m 3s\n",
      "515:\tlearn: 0.0269146\ttotal: 1m 7s\tremaining: 1m 2s\n",
      "516:\tlearn: 0.0268917\ttotal: 1m 7s\tremaining: 1m 2s\n",
      "517:\tlearn: 0.0268758\ttotal: 1m 7s\tremaining: 1m 2s\n",
      "518:\tlearn: 0.0268611\ttotal: 1m 7s\tremaining: 1m 2s\n",
      "519:\tlearn: 0.0268229\ttotal: 1m 7s\tremaining: 1m 2s\n",
      "520:\tlearn: 0.0267335\ttotal: 1m 7s\tremaining: 1m 2s\n",
      "521:\tlearn: 0.0266630\ttotal: 1m 7s\tremaining: 1m 2s\n",
      "522:\tlearn: 0.0266503\ttotal: 1m 7s\tremaining: 1m 1s\n",
      "523:\tlearn: 0.0266318\ttotal: 1m 8s\tremaining: 1m 1s\n",
      "524:\tlearn: 0.0265768\ttotal: 1m 8s\tremaining: 1m 1s\n",
      "525:\tlearn: 0.0265313\ttotal: 1m 8s\tremaining: 1m 1s\n",
      "526:\tlearn: 0.0264809\ttotal: 1m 8s\tremaining: 1m 1s\n",
      "527:\tlearn: 0.0264081\ttotal: 1m 8s\tremaining: 1m 1s\n",
      "528:\tlearn: 0.0263816\ttotal: 1m 8s\tremaining: 1m 1s\n",
      "529:\tlearn: 0.0263689\ttotal: 1m 8s\tremaining: 1m\n",
      "530:\tlearn: 0.0263332\ttotal: 1m 8s\tremaining: 1m\n",
      "531:\tlearn: 0.0262980\ttotal: 1m 8s\tremaining: 1m\n",
      "532:\tlearn: 0.0262856\ttotal: 1m 9s\tremaining: 1m\n",
      "533:\tlearn: 0.0261976\ttotal: 1m 9s\tremaining: 1m\n",
      "534:\tlearn: 0.0261874\ttotal: 1m 9s\tremaining: 1m\n",
      "535:\tlearn: 0.0261611\ttotal: 1m 9s\tremaining: 1m\n",
      "536:\tlearn: 0.0260963\ttotal: 1m 9s\tremaining: 59.9s\n",
      "537:\tlearn: 0.0260541\ttotal: 1m 9s\tremaining: 59.8s\n",
      "538:\tlearn: 0.0260206\ttotal: 1m 9s\tremaining: 59.7s\n",
      "539:\tlearn: 0.0259519\ttotal: 1m 9s\tremaining: 59.5s\n",
      "540:\tlearn: 0.0258995\ttotal: 1m 9s\tremaining: 59.4s\n",
      "541:\tlearn: 0.0258712\ttotal: 1m 10s\tremaining: 59.2s\n",
      "542:\tlearn: 0.0258165\ttotal: 1m 10s\tremaining: 59.1s\n",
      "543:\tlearn: 0.0258064\ttotal: 1m 10s\tremaining: 59s\n",
      "544:\tlearn: 0.0257659\ttotal: 1m 10s\tremaining: 58.8s\n",
      "545:\tlearn: 0.0257508\ttotal: 1m 10s\tremaining: 58.7s\n",
      "546:\tlearn: 0.0257330\ttotal: 1m 10s\tremaining: 58.5s\n",
      "547:\tlearn: 0.0256943\ttotal: 1m 10s\tremaining: 58.4s\n",
      "548:\tlearn: 0.0256683\ttotal: 1m 10s\tremaining: 58.3s\n",
      "549:\tlearn: 0.0256201\ttotal: 1m 11s\tremaining: 58.1s\n",
      "550:\tlearn: 0.0255809\ttotal: 1m 11s\tremaining: 58s\n",
      "551:\tlearn: 0.0255388\ttotal: 1m 11s\tremaining: 57.8s\n",
      "552:\tlearn: 0.0255073\ttotal: 1m 11s\tremaining: 57.7s\n",
      "553:\tlearn: 0.0254911\ttotal: 1m 11s\tremaining: 57.6s\n",
      "554:\tlearn: 0.0254441\ttotal: 1m 11s\tremaining: 57.4s\n",
      "555:\tlearn: 0.0253909\ttotal: 1m 11s\tremaining: 57.3s\n",
      "556:\tlearn: 0.0253816\ttotal: 1m 11s\tremaining: 57.1s\n",
      "557:\tlearn: 0.0253660\ttotal: 1m 11s\tremaining: 57s\n",
      "558:\tlearn: 0.0252576\ttotal: 1m 12s\tremaining: 56.9s\n",
      "559:\tlearn: 0.0252295\ttotal: 1m 12s\tremaining: 56.7s\n",
      "560:\tlearn: 0.0252042\ttotal: 1m 12s\tremaining: 56.6s\n",
      "561:\tlearn: 0.0251651\ttotal: 1m 12s\tremaining: 56.4s\n",
      "562:\tlearn: 0.0251419\ttotal: 1m 12s\tremaining: 56.3s\n",
      "563:\tlearn: 0.0251112\ttotal: 1m 12s\tremaining: 56.2s\n",
      "564:\tlearn: 0.0250935\ttotal: 1m 12s\tremaining: 56s\n",
      "565:\tlearn: 0.0250835\ttotal: 1m 12s\tremaining: 55.9s\n",
      "566:\tlearn: 0.0250439\ttotal: 1m 13s\tremaining: 55.8s\n",
      "567:\tlearn: 0.0250242\ttotal: 1m 13s\tremaining: 55.7s\n",
      "568:\tlearn: 0.0250137\ttotal: 1m 13s\tremaining: 55.5s\n",
      "569:\tlearn: 0.0249846\ttotal: 1m 13s\tremaining: 55.4s\n",
      "570:\tlearn: 0.0249751\ttotal: 1m 13s\tremaining: 55.2s\n",
      "571:\tlearn: 0.0249431\ttotal: 1m 13s\tremaining: 55.1s\n",
      "572:\tlearn: 0.0249280\ttotal: 1m 13s\tremaining: 55s\n",
      "573:\tlearn: 0.0248957\ttotal: 1m 13s\tremaining: 54.8s\n",
      "574:\tlearn: 0.0247867\ttotal: 1m 13s\tremaining: 54.7s\n",
      "575:\tlearn: 0.0247775\ttotal: 1m 14s\tremaining: 54.5s\n",
      "576:\tlearn: 0.0247255\ttotal: 1m 14s\tremaining: 54.4s\n",
      "577:\tlearn: 0.0247176\ttotal: 1m 14s\tremaining: 54.3s\n",
      "578:\tlearn: 0.0246845\ttotal: 1m 14s\tremaining: 54.1s\n",
      "579:\tlearn: 0.0246481\ttotal: 1m 14s\tremaining: 54s\n",
      "580:\tlearn: 0.0246367\ttotal: 1m 14s\tremaining: 53.8s\n",
      "581:\tlearn: 0.0245717\ttotal: 1m 14s\tremaining: 53.7s\n",
      "582:\tlearn: 0.0244932\ttotal: 1m 14s\tremaining: 53.6s\n",
      "583:\tlearn: 0.0244778\ttotal: 1m 14s\tremaining: 53.4s\n",
      "584:\tlearn: 0.0244488\ttotal: 1m 15s\tremaining: 53.3s\n",
      "585:\tlearn: 0.0244055\ttotal: 1m 15s\tremaining: 53.1s\n",
      "586:\tlearn: 0.0243878\ttotal: 1m 15s\tremaining: 53s\n",
      "587:\tlearn: 0.0243752\ttotal: 1m 15s\tremaining: 52.9s\n",
      "588:\tlearn: 0.0243379\ttotal: 1m 15s\tremaining: 52.7s\n",
      "589:\tlearn: 0.0242882\ttotal: 1m 15s\tremaining: 52.6s\n",
      "590:\tlearn: 0.0242626\ttotal: 1m 15s\tremaining: 52.4s\n",
      "591:\tlearn: 0.0242130\ttotal: 1m 15s\tremaining: 52.3s\n",
      "592:\tlearn: 0.0241890\ttotal: 1m 16s\tremaining: 52.2s\n",
      "593:\tlearn: 0.0240968\ttotal: 1m 16s\tremaining: 52s\n",
      "594:\tlearn: 0.0239419\ttotal: 1m 16s\tremaining: 51.9s\n",
      "595:\tlearn: 0.0239058\ttotal: 1m 16s\tremaining: 51.8s\n",
      "596:\tlearn: 0.0238631\ttotal: 1m 16s\tremaining: 51.7s\n",
      "597:\tlearn: 0.0238522\ttotal: 1m 16s\tremaining: 51.5s\n",
      "598:\tlearn: 0.0238178\ttotal: 1m 16s\tremaining: 51.4s\n",
      "599:\tlearn: 0.0237995\ttotal: 1m 16s\tremaining: 51.2s\n",
      "600:\tlearn: 0.0237595\ttotal: 1m 16s\tremaining: 51.1s\n",
      "601:\tlearn: 0.0237193\ttotal: 1m 17s\tremaining: 51s\n",
      "602:\tlearn: 0.0236811\ttotal: 1m 17s\tremaining: 50.8s\n",
      "603:\tlearn: 0.0236737\ttotal: 1m 17s\tremaining: 50.7s\n",
      "604:\tlearn: 0.0236603\ttotal: 1m 17s\tremaining: 50.6s\n",
      "605:\tlearn: 0.0236476\ttotal: 1m 17s\tremaining: 50.5s\n",
      "606:\tlearn: 0.0235719\ttotal: 1m 17s\tremaining: 50.4s\n",
      "607:\tlearn: 0.0235311\ttotal: 1m 17s\tremaining: 50.3s\n",
      "608:\tlearn: 0.0235028\ttotal: 1m 18s\tremaining: 50.1s\n",
      "609:\tlearn: 0.0234532\ttotal: 1m 18s\tremaining: 50s\n",
      "610:\tlearn: 0.0234175\ttotal: 1m 18s\tremaining: 49.9s\n",
      "611:\tlearn: 0.0234004\ttotal: 1m 18s\tremaining: 49.8s\n",
      "612:\tlearn: 0.0233923\ttotal: 1m 18s\tremaining: 49.6s\n",
      "613:\tlearn: 0.0233740\ttotal: 1m 18s\tremaining: 49.5s\n",
      "614:\tlearn: 0.0233685\ttotal: 1m 18s\tremaining: 49.4s\n",
      "615:\tlearn: 0.0233446\ttotal: 1m 19s\tremaining: 49.3s\n",
      "616:\tlearn: 0.0232821\ttotal: 1m 19s\tremaining: 49.3s\n",
      "617:\tlearn: 0.0232665\ttotal: 1m 19s\tremaining: 49.2s\n",
      "618:\tlearn: 0.0232140\ttotal: 1m 19s\tremaining: 49.1s\n",
      "619:\tlearn: 0.0231647\ttotal: 1m 19s\tremaining: 49s\n",
      "620:\tlearn: 0.0230746\ttotal: 1m 20s\tremaining: 48.9s\n",
      "621:\tlearn: 0.0230649\ttotal: 1m 20s\tremaining: 48.8s\n",
      "622:\tlearn: 0.0230573\ttotal: 1m 20s\tremaining: 48.7s\n",
      "623:\tlearn: 0.0230352\ttotal: 1m 20s\tremaining: 48.5s\n",
      "624:\tlearn: 0.0230228\ttotal: 1m 20s\tremaining: 48.4s\n",
      "625:\tlearn: 0.0229673\ttotal: 1m 20s\tremaining: 48.3s\n",
      "626:\tlearn: 0.0229504\ttotal: 1m 20s\tremaining: 48.2s\n",
      "627:\tlearn: 0.0229183\ttotal: 1m 21s\tremaining: 48.1s\n",
      "628:\tlearn: 0.0229085\ttotal: 1m 21s\tremaining: 47.9s\n",
      "629:\tlearn: 0.0228926\ttotal: 1m 21s\tremaining: 47.8s\n"
     ]
    },
    {
     "name": "stdout",
     "output_type": "stream",
     "text": [
      "630:\tlearn: 0.0228435\ttotal: 1m 21s\tremaining: 47.7s\n",
      "631:\tlearn: 0.0228002\ttotal: 1m 21s\tremaining: 47.5s\n",
      "632:\tlearn: 0.0227672\ttotal: 1m 21s\tremaining: 47.4s\n",
      "633:\tlearn: 0.0227597\ttotal: 1m 21s\tremaining: 47.3s\n",
      "634:\tlearn: 0.0227545\ttotal: 1m 22s\tremaining: 47.2s\n",
      "635:\tlearn: 0.0227418\ttotal: 1m 22s\tremaining: 47.1s\n",
      "636:\tlearn: 0.0227203\ttotal: 1m 22s\tremaining: 46.9s\n",
      "637:\tlearn: 0.0226604\ttotal: 1m 22s\tremaining: 46.8s\n",
      "638:\tlearn: 0.0226399\ttotal: 1m 22s\tremaining: 46.7s\n",
      "639:\tlearn: 0.0225972\ttotal: 1m 22s\tremaining: 46.5s\n",
      "640:\tlearn: 0.0225861\ttotal: 1m 22s\tremaining: 46.4s\n",
      "641:\tlearn: 0.0225750\ttotal: 1m 22s\tremaining: 46.3s\n",
      "642:\tlearn: 0.0225627\ttotal: 1m 23s\tremaining: 46.1s\n",
      "643:\tlearn: 0.0225503\ttotal: 1m 23s\tremaining: 46s\n",
      "644:\tlearn: 0.0225379\ttotal: 1m 23s\tremaining: 45.9s\n",
      "645:\tlearn: 0.0224933\ttotal: 1m 23s\tremaining: 45.8s\n",
      "646:\tlearn: 0.0224563\ttotal: 1m 23s\tremaining: 45.7s\n",
      "647:\tlearn: 0.0224460\ttotal: 1m 23s\tremaining: 45.6s\n",
      "648:\tlearn: 0.0224131\ttotal: 1m 24s\tremaining: 45.4s\n",
      "649:\tlearn: 0.0223701\ttotal: 1m 24s\tremaining: 45.3s\n",
      "650:\tlearn: 0.0223611\ttotal: 1m 24s\tremaining: 45.2s\n",
      "651:\tlearn: 0.0223297\ttotal: 1m 24s\tremaining: 45.1s\n",
      "652:\tlearn: 0.0223245\ttotal: 1m 24s\tremaining: 44.9s\n",
      "653:\tlearn: 0.0223137\ttotal: 1m 24s\tremaining: 44.8s\n",
      "654:\tlearn: 0.0222300\ttotal: 1m 24s\tremaining: 44.7s\n",
      "655:\tlearn: 0.0222193\ttotal: 1m 24s\tremaining: 44.6s\n",
      "656:\tlearn: 0.0221982\ttotal: 1m 25s\tremaining: 44.4s\n",
      "657:\tlearn: 0.0221886\ttotal: 1m 25s\tremaining: 44.3s\n",
      "658:\tlearn: 0.0221743\ttotal: 1m 25s\tremaining: 44.2s\n",
      "659:\tlearn: 0.0221469\ttotal: 1m 25s\tremaining: 44s\n",
      "660:\tlearn: 0.0221351\ttotal: 1m 25s\tremaining: 43.9s\n",
      "661:\tlearn: 0.0221208\ttotal: 1m 25s\tremaining: 43.7s\n",
      "662:\tlearn: 0.0220858\ttotal: 1m 25s\tremaining: 43.6s\n",
      "663:\tlearn: 0.0220732\ttotal: 1m 25s\tremaining: 43.5s\n",
      "664:\tlearn: 0.0220302\ttotal: 1m 26s\tremaining: 43.3s\n",
      "665:\tlearn: 0.0219982\ttotal: 1m 26s\tremaining: 43.2s\n",
      "666:\tlearn: 0.0219885\ttotal: 1m 26s\tremaining: 43.1s\n",
      "667:\tlearn: 0.0219560\ttotal: 1m 26s\tremaining: 42.9s\n",
      "668:\tlearn: 0.0219451\ttotal: 1m 26s\tremaining: 42.9s\n",
      "669:\tlearn: 0.0219169\ttotal: 1m 26s\tremaining: 42.8s\n",
      "670:\tlearn: 0.0218285\ttotal: 1m 27s\tremaining: 42.7s\n",
      "671:\tlearn: 0.0218101\ttotal: 1m 27s\tremaining: 42.6s\n",
      "672:\tlearn: 0.0217938\ttotal: 1m 27s\tremaining: 42.5s\n",
      "673:\tlearn: 0.0217843\ttotal: 1m 27s\tremaining: 42.3s\n",
      "674:\tlearn: 0.0217516\ttotal: 1m 27s\tremaining: 42.2s\n",
      "675:\tlearn: 0.0217242\ttotal: 1m 27s\tremaining: 42s\n",
      "676:\tlearn: 0.0216866\ttotal: 1m 27s\tremaining: 41.9s\n",
      "677:\tlearn: 0.0216494\ttotal: 1m 27s\tremaining: 41.8s\n",
      "678:\tlearn: 0.0216435\ttotal: 1m 28s\tremaining: 41.6s\n",
      "679:\tlearn: 0.0216355\ttotal: 1m 28s\tremaining: 41.5s\n",
      "680:\tlearn: 0.0216049\ttotal: 1m 28s\tremaining: 41.4s\n",
      "681:\tlearn: 0.0215819\ttotal: 1m 28s\tremaining: 41.2s\n",
      "682:\tlearn: 0.0215667\ttotal: 1m 28s\tremaining: 41.1s\n",
      "683:\tlearn: 0.0215349\ttotal: 1m 28s\tremaining: 41s\n",
      "684:\tlearn: 0.0215234\ttotal: 1m 28s\tremaining: 40.8s\n",
      "685:\tlearn: 0.0214997\ttotal: 1m 28s\tremaining: 40.7s\n",
      "686:\tlearn: 0.0214898\ttotal: 1m 29s\tremaining: 40.6s\n",
      "687:\tlearn: 0.0213734\ttotal: 1m 29s\tremaining: 40.4s\n",
      "688:\tlearn: 0.0213475\ttotal: 1m 29s\tremaining: 40.3s\n",
      "689:\tlearn: 0.0212983\ttotal: 1m 29s\tremaining: 40.2s\n",
      "690:\tlearn: 0.0212921\ttotal: 1m 29s\tremaining: 40s\n",
      "691:\tlearn: 0.0212781\ttotal: 1m 29s\tremaining: 39.9s\n",
      "692:\tlearn: 0.0212356\ttotal: 1m 29s\tremaining: 39.8s\n",
      "693:\tlearn: 0.0211724\ttotal: 1m 29s\tremaining: 39.7s\n",
      "694:\tlearn: 0.0211564\ttotal: 1m 30s\tremaining: 39.5s\n",
      "695:\tlearn: 0.0211152\ttotal: 1m 30s\tremaining: 39.4s\n",
      "696:\tlearn: 0.0210911\ttotal: 1m 30s\tremaining: 39.3s\n",
      "697:\tlearn: 0.0210565\ttotal: 1m 30s\tremaining: 39.1s\n",
      "698:\tlearn: 0.0210458\ttotal: 1m 30s\tremaining: 39s\n",
      "699:\tlearn: 0.0210325\ttotal: 1m 30s\tremaining: 38.9s\n",
      "700:\tlearn: 0.0210226\ttotal: 1m 30s\tremaining: 38.7s\n",
      "701:\tlearn: 0.0209954\ttotal: 1m 30s\tremaining: 38.6s\n",
      "702:\tlearn: 0.0209721\ttotal: 1m 31s\tremaining: 38.5s\n",
      "703:\tlearn: 0.0209002\ttotal: 1m 31s\tremaining: 38.3s\n",
      "704:\tlearn: 0.0208941\ttotal: 1m 31s\tremaining: 38.2s\n",
      "705:\tlearn: 0.0208829\ttotal: 1m 31s\tremaining: 38s\n",
      "706:\tlearn: 0.0208529\ttotal: 1m 31s\tremaining: 37.9s\n",
      "707:\tlearn: 0.0208393\ttotal: 1m 31s\tremaining: 37.8s\n",
      "708:\tlearn: 0.0208318\ttotal: 1m 31s\tremaining: 37.6s\n",
      "709:\tlearn: 0.0208200\ttotal: 1m 31s\tremaining: 37.5s\n",
      "710:\tlearn: 0.0207757\ttotal: 1m 31s\tremaining: 37.4s\n",
      "711:\tlearn: 0.0206862\ttotal: 1m 32s\tremaining: 37.2s\n",
      "712:\tlearn: 0.0206662\ttotal: 1m 32s\tremaining: 37.1s\n",
      "713:\tlearn: 0.0206059\ttotal: 1m 32s\tremaining: 37s\n",
      "714:\tlearn: 0.0205992\ttotal: 1m 32s\tremaining: 36.8s\n",
      "715:\tlearn: 0.0205777\ttotal: 1m 32s\tremaining: 36.7s\n",
      "716:\tlearn: 0.0205353\ttotal: 1m 32s\tremaining: 36.6s\n",
      "717:\tlearn: 0.0205153\ttotal: 1m 32s\tremaining: 36.4s\n",
      "718:\tlearn: 0.0205070\ttotal: 1m 32s\tremaining: 36.3s\n",
      "719:\tlearn: 0.0204917\ttotal: 1m 32s\tremaining: 36.2s\n",
      "720:\tlearn: 0.0204582\ttotal: 1m 33s\tremaining: 36s\n",
      "721:\tlearn: 0.0204497\ttotal: 1m 33s\tremaining: 35.9s\n",
      "722:\tlearn: 0.0204369\ttotal: 1m 33s\tremaining: 35.8s\n",
      "723:\tlearn: 0.0203775\ttotal: 1m 33s\tremaining: 35.6s\n",
      "724:\tlearn: 0.0203708\ttotal: 1m 33s\tremaining: 35.5s\n",
      "725:\tlearn: 0.0203379\ttotal: 1m 33s\tremaining: 35.4s\n",
      "726:\tlearn: 0.0202896\ttotal: 1m 33s\tremaining: 35.2s\n",
      "727:\tlearn: 0.0202325\ttotal: 1m 33s\tremaining: 35.1s\n",
      "728:\tlearn: 0.0202256\ttotal: 1m 34s\tremaining: 35s\n",
      "729:\tlearn: 0.0202162\ttotal: 1m 34s\tremaining: 34.8s\n",
      "730:\tlearn: 0.0201535\ttotal: 1m 34s\tremaining: 34.7s\n",
      "731:\tlearn: 0.0201478\ttotal: 1m 34s\tremaining: 34.6s\n",
      "732:\tlearn: 0.0201282\ttotal: 1m 34s\tremaining: 34.4s\n",
      "733:\tlearn: 0.0201190\ttotal: 1m 34s\tremaining: 34.3s\n",
      "734:\tlearn: 0.0200921\ttotal: 1m 34s\tremaining: 34.2s\n",
      "735:\tlearn: 0.0200842\ttotal: 1m 34s\tremaining: 34s\n",
      "736:\tlearn: 0.0200659\ttotal: 1m 35s\tremaining: 33.9s\n",
      "737:\tlearn: 0.0200267\ttotal: 1m 35s\tremaining: 33.8s\n",
      "738:\tlearn: 0.0200192\ttotal: 1m 35s\tremaining: 33.6s\n",
      "739:\tlearn: 0.0199999\ttotal: 1m 35s\tremaining: 33.5s\n",
      "740:\tlearn: 0.0199936\ttotal: 1m 35s\tremaining: 33.4s\n",
      "741:\tlearn: 0.0199792\ttotal: 1m 35s\tremaining: 33.2s\n",
      "742:\tlearn: 0.0199716\ttotal: 1m 35s\tremaining: 33.1s\n",
      "743:\tlearn: 0.0199374\ttotal: 1m 35s\tremaining: 33s\n",
      "744:\tlearn: 0.0199268\ttotal: 1m 35s\tremaining: 32.9s\n",
      "745:\tlearn: 0.0199191\ttotal: 1m 36s\tremaining: 32.7s\n",
      "746:\tlearn: 0.0198913\ttotal: 1m 36s\tremaining: 32.6s\n",
      "747:\tlearn: 0.0198540\ttotal: 1m 36s\tremaining: 32.5s\n",
      "748:\tlearn: 0.0198289\ttotal: 1m 36s\tremaining: 32.3s\n",
      "749:\tlearn: 0.0198026\ttotal: 1m 36s\tremaining: 32.2s\n",
      "750:\tlearn: 0.0197763\ttotal: 1m 36s\tremaining: 32.1s\n",
      "751:\tlearn: 0.0197604\ttotal: 1m 36s\tremaining: 31.9s\n",
      "752:\tlearn: 0.0196595\ttotal: 1m 36s\tremaining: 31.8s\n",
      "753:\tlearn: 0.0196569\ttotal: 1m 37s\tremaining: 31.7s\n",
      "754:\tlearn: 0.0196239\ttotal: 1m 37s\tremaining: 31.5s\n",
      "755:\tlearn: 0.0195935\ttotal: 1m 37s\tremaining: 31.4s\n",
      "756:\tlearn: 0.0195881\ttotal: 1m 37s\tremaining: 31.3s\n",
      "757:\tlearn: 0.0195774\ttotal: 1m 37s\tremaining: 31.1s\n",
      "758:\tlearn: 0.0195361\ttotal: 1m 37s\tremaining: 31s\n",
      "759:\tlearn: 0.0195257\ttotal: 1m 37s\tremaining: 30.9s\n",
      "760:\tlearn: 0.0195173\ttotal: 1m 37s\tremaining: 30.7s\n",
      "761:\tlearn: 0.0194841\ttotal: 1m 38s\tremaining: 30.6s\n",
      "762:\tlearn: 0.0194806\ttotal: 1m 38s\tremaining: 30.5s\n",
      "763:\tlearn: 0.0194721\ttotal: 1m 38s\tremaining: 30.4s\n",
      "764:\tlearn: 0.0194663\ttotal: 1m 38s\tremaining: 30.2s\n",
      "765:\tlearn: 0.0194522\ttotal: 1m 38s\tremaining: 30.1s\n",
      "766:\tlearn: 0.0193871\ttotal: 1m 38s\tremaining: 30s\n",
      "767:\tlearn: 0.0193743\ttotal: 1m 38s\tremaining: 29.8s\n",
      "768:\tlearn: 0.0193380\ttotal: 1m 38s\tremaining: 29.7s\n",
      "769:\tlearn: 0.0192901\ttotal: 1m 38s\tremaining: 29.6s\n",
      "770:\tlearn: 0.0192447\ttotal: 1m 39s\tremaining: 29.4s\n",
      "771:\tlearn: 0.0192358\ttotal: 1m 39s\tremaining: 29.3s\n",
      "772:\tlearn: 0.0191993\ttotal: 1m 39s\tremaining: 29.2s\n",
      "773:\tlearn: 0.0191380\ttotal: 1m 39s\tremaining: 29s\n",
      "774:\tlearn: 0.0191314\ttotal: 1m 39s\tremaining: 28.9s\n",
      "775:\tlearn: 0.0191163\ttotal: 1m 39s\tremaining: 28.8s\n",
      "776:\tlearn: 0.0191058\ttotal: 1m 39s\tremaining: 28.6s\n",
      "777:\tlearn: 0.0190811\ttotal: 1m 39s\tremaining: 28.5s\n",
      "778:\tlearn: 0.0190762\ttotal: 1m 40s\tremaining: 28.4s\n",
      "779:\tlearn: 0.0190599\ttotal: 1m 40s\tremaining: 28.2s\n",
      "780:\tlearn: 0.0190508\ttotal: 1m 40s\tremaining: 28.1s\n",
      "781:\tlearn: 0.0190474\ttotal: 1m 40s\tremaining: 28s\n",
      "782:\tlearn: 0.0190378\ttotal: 1m 40s\tremaining: 27.8s\n",
      "783:\tlearn: 0.0190069\ttotal: 1m 40s\tremaining: 27.7s\n",
      "784:\tlearn: 0.0190003\ttotal: 1m 40s\tremaining: 27.6s\n",
      "785:\tlearn: 0.0189944\ttotal: 1m 40s\tremaining: 27.4s\n",
      "786:\tlearn: 0.0189800\ttotal: 1m 40s\tremaining: 27.3s\n"
     ]
    },
    {
     "name": "stdout",
     "output_type": "stream",
     "text": [
      "787:\tlearn: 0.0189417\ttotal: 1m 41s\tremaining: 27.2s\n",
      "788:\tlearn: 0.0189175\ttotal: 1m 41s\tremaining: 27s\n",
      "789:\tlearn: 0.0189089\ttotal: 1m 41s\tremaining: 26.9s\n",
      "790:\tlearn: 0.0188847\ttotal: 1m 41s\tremaining: 26.8s\n",
      "791:\tlearn: 0.0188790\ttotal: 1m 41s\tremaining: 26.6s\n",
      "792:\tlearn: 0.0188647\ttotal: 1m 41s\tremaining: 26.5s\n",
      "793:\tlearn: 0.0188186\ttotal: 1m 41s\tremaining: 26.4s\n",
      "794:\tlearn: 0.0187901\ttotal: 1m 41s\tremaining: 26.2s\n",
      "795:\tlearn: 0.0187593\ttotal: 1m 41s\tremaining: 26.1s\n",
      "796:\tlearn: 0.0187543\ttotal: 1m 42s\tremaining: 26s\n",
      "797:\tlearn: 0.0187205\ttotal: 1m 42s\tremaining: 25.9s\n",
      "798:\tlearn: 0.0187101\ttotal: 1m 42s\tremaining: 25.7s\n",
      "799:\tlearn: 0.0186930\ttotal: 1m 42s\tremaining: 25.6s\n",
      "800:\tlearn: 0.0186765\ttotal: 1m 42s\tremaining: 25.5s\n",
      "801:\tlearn: 0.0186509\ttotal: 1m 42s\tremaining: 25.3s\n",
      "802:\tlearn: 0.0186379\ttotal: 1m 42s\tremaining: 25.2s\n",
      "803:\tlearn: 0.0186339\ttotal: 1m 42s\tremaining: 25.1s\n",
      "804:\tlearn: 0.0186115\ttotal: 1m 42s\tremaining: 24.9s\n",
      "805:\tlearn: 0.0186034\ttotal: 1m 43s\tremaining: 24.8s\n",
      "806:\tlearn: 0.0185992\ttotal: 1m 43s\tremaining: 24.7s\n",
      "807:\tlearn: 0.0185873\ttotal: 1m 43s\tremaining: 24.5s\n",
      "808:\tlearn: 0.0185633\ttotal: 1m 43s\tremaining: 24.4s\n",
      "809:\tlearn: 0.0185457\ttotal: 1m 43s\tremaining: 24.3s\n",
      "810:\tlearn: 0.0185209\ttotal: 1m 43s\tremaining: 24.1s\n",
      "811:\tlearn: 0.0184819\ttotal: 1m 43s\tremaining: 24s\n",
      "812:\tlearn: 0.0184610\ttotal: 1m 43s\tremaining: 23.9s\n",
      "813:\tlearn: 0.0184389\ttotal: 1m 43s\tremaining: 23.7s\n",
      "814:\tlearn: 0.0184315\ttotal: 1m 44s\tremaining: 23.6s\n",
      "815:\tlearn: 0.0184274\ttotal: 1m 44s\tremaining: 23.5s\n",
      "816:\tlearn: 0.0183573\ttotal: 1m 44s\tremaining: 23.4s\n",
      "817:\tlearn: 0.0183324\ttotal: 1m 44s\tremaining: 23.2s\n",
      "818:\tlearn: 0.0183270\ttotal: 1m 44s\tremaining: 23.1s\n",
      "819:\tlearn: 0.0182750\ttotal: 1m 44s\tremaining: 23s\n",
      "820:\tlearn: 0.0182700\ttotal: 1m 44s\tremaining: 22.8s\n",
      "821:\tlearn: 0.0182582\ttotal: 1m 44s\tremaining: 22.7s\n",
      "822:\tlearn: 0.0182404\ttotal: 1m 44s\tremaining: 22.6s\n",
      "823:\tlearn: 0.0182378\ttotal: 1m 45s\tremaining: 22.4s\n",
      "824:\tlearn: 0.0182310\ttotal: 1m 45s\tremaining: 22.3s\n",
      "825:\tlearn: 0.0182236\ttotal: 1m 45s\tremaining: 22.2s\n",
      "826:\tlearn: 0.0182149\ttotal: 1m 45s\tremaining: 22s\n",
      "827:\tlearn: 0.0181900\ttotal: 1m 45s\tremaining: 21.9s\n",
      "828:\tlearn: 0.0181665\ttotal: 1m 45s\tremaining: 21.8s\n",
      "829:\tlearn: 0.0181546\ttotal: 1m 45s\tremaining: 21.7s\n",
      "830:\tlearn: 0.0181453\ttotal: 1m 45s\tremaining: 21.5s\n",
      "831:\tlearn: 0.0180877\ttotal: 1m 45s\tremaining: 21.4s\n",
      "832:\tlearn: 0.0180835\ttotal: 1m 46s\tremaining: 21.3s\n",
      "833:\tlearn: 0.0180730\ttotal: 1m 46s\tremaining: 21.1s\n",
      "834:\tlearn: 0.0180664\ttotal: 1m 46s\tremaining: 21s\n",
      "835:\tlearn: 0.0180641\ttotal: 1m 46s\tremaining: 20.9s\n",
      "836:\tlearn: 0.0180538\ttotal: 1m 46s\tremaining: 20.7s\n",
      "837:\tlearn: 0.0180429\ttotal: 1m 46s\tremaining: 20.6s\n",
      "838:\tlearn: 0.0180139\ttotal: 1m 46s\tremaining: 20.5s\n",
      "839:\tlearn: 0.0179860\ttotal: 1m 46s\tremaining: 20.3s\n",
      "840:\tlearn: 0.0179644\ttotal: 1m 46s\tremaining: 20.2s\n",
      "841:\tlearn: 0.0179343\ttotal: 1m 47s\tremaining: 20.1s\n",
      "842:\tlearn: 0.0179048\ttotal: 1m 47s\tremaining: 20s\n",
      "843:\tlearn: 0.0178861\ttotal: 1m 47s\tremaining: 19.8s\n",
      "844:\tlearn: 0.0178459\ttotal: 1m 47s\tremaining: 19.7s\n",
      "845:\tlearn: 0.0178399\ttotal: 1m 47s\tremaining: 19.6s\n",
      "846:\tlearn: 0.0178261\ttotal: 1m 47s\tremaining: 19.4s\n",
      "847:\tlearn: 0.0177485\ttotal: 1m 47s\tremaining: 19.3s\n",
      "848:\tlearn: 0.0177422\ttotal: 1m 47s\tremaining: 19.2s\n",
      "849:\tlearn: 0.0177147\ttotal: 1m 47s\tremaining: 19.1s\n",
      "850:\tlearn: 0.0176561\ttotal: 1m 48s\tremaining: 18.9s\n",
      "851:\tlearn: 0.0176284\ttotal: 1m 48s\tremaining: 18.8s\n",
      "852:\tlearn: 0.0175881\ttotal: 1m 48s\tremaining: 18.7s\n",
      "853:\tlearn: 0.0175823\ttotal: 1m 48s\tremaining: 18.5s\n",
      "854:\tlearn: 0.0175690\ttotal: 1m 48s\tremaining: 18.4s\n",
      "855:\tlearn: 0.0175619\ttotal: 1m 48s\tremaining: 18.3s\n",
      "856:\tlearn: 0.0175554\ttotal: 1m 48s\tremaining: 18.1s\n",
      "857:\tlearn: 0.0175416\ttotal: 1m 48s\tremaining: 18s\n",
      "858:\tlearn: 0.0175136\ttotal: 1m 49s\tremaining: 17.9s\n",
      "859:\tlearn: 0.0175048\ttotal: 1m 49s\tremaining: 17.8s\n",
      "860:\tlearn: 0.0174989\ttotal: 1m 49s\tremaining: 17.6s\n",
      "861:\tlearn: 0.0174893\ttotal: 1m 49s\tremaining: 17.5s\n",
      "862:\tlearn: 0.0174515\ttotal: 1m 49s\tremaining: 17.4s\n",
      "863:\tlearn: 0.0174421\ttotal: 1m 49s\tremaining: 17.3s\n",
      "864:\tlearn: 0.0174301\ttotal: 1m 49s\tremaining: 17.1s\n",
      "865:\tlearn: 0.0173953\ttotal: 1m 49s\tremaining: 17s\n",
      "866:\tlearn: 0.0173747\ttotal: 1m 49s\tremaining: 16.9s\n",
      "867:\tlearn: 0.0173614\ttotal: 1m 50s\tremaining: 16.7s\n",
      "868:\tlearn: 0.0173499\ttotal: 1m 50s\tremaining: 16.6s\n",
      "869:\tlearn: 0.0173445\ttotal: 1m 50s\tremaining: 16.5s\n",
      "870:\tlearn: 0.0173270\ttotal: 1m 50s\tremaining: 16.3s\n",
      "871:\tlearn: 0.0172976\ttotal: 1m 50s\tremaining: 16.2s\n",
      "872:\tlearn: 0.0172639\ttotal: 1m 50s\tremaining: 16.1s\n",
      "873:\tlearn: 0.0172532\ttotal: 1m 50s\tremaining: 16s\n",
      "874:\tlearn: 0.0172391\ttotal: 1m 50s\tremaining: 15.8s\n",
      "875:\tlearn: 0.0172288\ttotal: 1m 50s\tremaining: 15.7s\n",
      "876:\tlearn: 0.0172222\ttotal: 1m 51s\tremaining: 15.6s\n",
      "877:\tlearn: 0.0171986\ttotal: 1m 51s\tremaining: 15.4s\n",
      "878:\tlearn: 0.0171804\ttotal: 1m 51s\tremaining: 15.3s\n",
      "879:\tlearn: 0.0171668\ttotal: 1m 51s\tremaining: 15.2s\n",
      "880:\tlearn: 0.0171621\ttotal: 1m 51s\tremaining: 15.1s\n",
      "881:\tlearn: 0.0171554\ttotal: 1m 51s\tremaining: 14.9s\n",
      "882:\tlearn: 0.0171461\ttotal: 1m 51s\tremaining: 14.8s\n",
      "883:\tlearn: 0.0171370\ttotal: 1m 51s\tremaining: 14.7s\n",
      "884:\tlearn: 0.0171169\ttotal: 1m 51s\tremaining: 14.6s\n",
      "885:\tlearn: 0.0171060\ttotal: 1m 52s\tremaining: 14.4s\n",
      "886:\tlearn: 0.0170428\ttotal: 1m 52s\tremaining: 14.3s\n",
      "887:\tlearn: 0.0170390\ttotal: 1m 52s\tremaining: 14.2s\n",
      "888:\tlearn: 0.0170269\ttotal: 1m 52s\tremaining: 14s\n",
      "889:\tlearn: 0.0170145\ttotal: 1m 52s\tremaining: 13.9s\n",
      "890:\tlearn: 0.0170073\ttotal: 1m 52s\tremaining: 13.8s\n",
      "891:\tlearn: 0.0169705\ttotal: 1m 52s\tremaining: 13.7s\n",
      "892:\tlearn: 0.0169472\ttotal: 1m 52s\tremaining: 13.5s\n",
      "893:\tlearn: 0.0169453\ttotal: 1m 53s\tremaining: 13.4s\n",
      "894:\tlearn: 0.0169222\ttotal: 1m 53s\tremaining: 13.3s\n",
      "895:\tlearn: 0.0169182\ttotal: 1m 53s\tremaining: 13.2s\n",
      "896:\tlearn: 0.0169075\ttotal: 1m 53s\tremaining: 13s\n",
      "897:\tlearn: 0.0168918\ttotal: 1m 53s\tremaining: 12.9s\n",
      "898:\tlearn: 0.0168837\ttotal: 1m 53s\tremaining: 12.8s\n",
      "899:\tlearn: 0.0168666\ttotal: 1m 53s\tremaining: 12.6s\n",
      "900:\tlearn: 0.0168376\ttotal: 1m 53s\tremaining: 12.5s\n",
      "901:\tlearn: 0.0168238\ttotal: 1m 54s\tremaining: 12.4s\n",
      "902:\tlearn: 0.0168092\ttotal: 1m 54s\tremaining: 12.3s\n",
      "903:\tlearn: 0.0167947\ttotal: 1m 54s\tremaining: 12.1s\n",
      "904:\tlearn: 0.0167909\ttotal: 1m 54s\tremaining: 12s\n",
      "905:\tlearn: 0.0167842\ttotal: 1m 54s\tremaining: 11.9s\n",
      "906:\tlearn: 0.0167804\ttotal: 1m 54s\tremaining: 11.8s\n",
      "907:\tlearn: 0.0167596\ttotal: 1m 54s\tremaining: 11.6s\n",
      "908:\tlearn: 0.0167527\ttotal: 1m 54s\tremaining: 11.5s\n",
      "909:\tlearn: 0.0167148\ttotal: 1m 55s\tremaining: 11.4s\n",
      "910:\tlearn: 0.0167027\ttotal: 1m 55s\tremaining: 11.3s\n",
      "911:\tlearn: 0.0166877\ttotal: 1m 55s\tremaining: 11.1s\n",
      "912:\tlearn: 0.0166683\ttotal: 1m 55s\tremaining: 11s\n",
      "913:\tlearn: 0.0166647\ttotal: 1m 55s\tremaining: 10.9s\n",
      "914:\tlearn: 0.0166254\ttotal: 1m 55s\tremaining: 10.8s\n",
      "915:\tlearn: 0.0166017\ttotal: 1m 55s\tremaining: 10.6s\n",
      "916:\tlearn: 0.0165895\ttotal: 1m 55s\tremaining: 10.5s\n",
      "917:\tlearn: 0.0165857\ttotal: 1m 56s\tremaining: 10.4s\n",
      "918:\tlearn: 0.0165789\ttotal: 1m 56s\tremaining: 10.2s\n",
      "919:\tlearn: 0.0165529\ttotal: 1m 56s\tremaining: 10.1s\n",
      "920:\tlearn: 0.0164989\ttotal: 1m 56s\tremaining: 10s\n",
      "921:\tlearn: 0.0164921\ttotal: 1m 56s\tremaining: 9.88s\n",
      "922:\tlearn: 0.0164863\ttotal: 1m 56s\tremaining: 9.75s\n",
      "923:\tlearn: 0.0164688\ttotal: 1m 57s\tremaining: 9.63s\n",
      "924:\tlearn: 0.0164329\ttotal: 1m 57s\tremaining: 9.5s\n",
      "925:\tlearn: 0.0164272\ttotal: 1m 57s\tremaining: 9.37s\n",
      "926:\tlearn: 0.0164248\ttotal: 1m 57s\tremaining: 9.24s\n",
      "927:\tlearn: 0.0163932\ttotal: 1m 57s\tremaining: 9.12s\n",
      "928:\tlearn: 0.0163406\ttotal: 1m 57s\tremaining: 8.99s\n",
      "929:\tlearn: 0.0163321\ttotal: 1m 57s\tremaining: 8.86s\n",
      "930:\tlearn: 0.0162753\ttotal: 1m 57s\tremaining: 8.73s\n",
      "931:\tlearn: 0.0162572\ttotal: 1m 57s\tremaining: 8.61s\n",
      "932:\tlearn: 0.0162467\ttotal: 1m 58s\tremaining: 8.48s\n",
      "933:\tlearn: 0.0162384\ttotal: 1m 58s\tremaining: 8.35s\n",
      "934:\tlearn: 0.0162332\ttotal: 1m 58s\tremaining: 8.23s\n",
      "935:\tlearn: 0.0162266\ttotal: 1m 58s\tremaining: 8.1s\n",
      "936:\tlearn: 0.0161941\ttotal: 1m 58s\tremaining: 7.97s\n",
      "937:\tlearn: 0.0161691\ttotal: 1m 58s\tremaining: 7.84s\n",
      "938:\tlearn: 0.0161618\ttotal: 1m 58s\tremaining: 7.72s\n",
      "939:\tlearn: 0.0161416\ttotal: 1m 58s\tremaining: 7.59s\n",
      "940:\tlearn: 0.0160954\ttotal: 1m 59s\tremaining: 7.46s\n",
      "941:\tlearn: 0.0160111\ttotal: 1m 59s\tremaining: 7.34s\n",
      "942:\tlearn: 0.0159989\ttotal: 1m 59s\tremaining: 7.21s\n"
     ]
    },
    {
     "name": "stdout",
     "output_type": "stream",
     "text": [
      "943:\tlearn: 0.0159927\ttotal: 1m 59s\tremaining: 7.08s\n",
      "944:\tlearn: 0.0159889\ttotal: 1m 59s\tremaining: 6.95s\n",
      "945:\tlearn: 0.0159649\ttotal: 1m 59s\tremaining: 6.83s\n",
      "946:\tlearn: 0.0159508\ttotal: 1m 59s\tremaining: 6.7s\n",
      "947:\tlearn: 0.0159448\ttotal: 1m 59s\tremaining: 6.57s\n",
      "948:\tlearn: 0.0159263\ttotal: 1m 59s\tremaining: 6.45s\n",
      "949:\tlearn: 0.0159219\ttotal: 2m\tremaining: 6.32s\n",
      "950:\tlearn: 0.0158986\ttotal: 2m\tremaining: 6.19s\n",
      "951:\tlearn: 0.0158781\ttotal: 2m\tremaining: 6.07s\n",
      "952:\tlearn: 0.0158749\ttotal: 2m\tremaining: 5.94s\n",
      "953:\tlearn: 0.0158712\ttotal: 2m\tremaining: 5.81s\n",
      "954:\tlearn: 0.0158684\ttotal: 2m\tremaining: 5.69s\n",
      "955:\tlearn: 0.0158610\ttotal: 2m\tremaining: 5.56s\n",
      "956:\tlearn: 0.0158460\ttotal: 2m 1s\tremaining: 5.44s\n",
      "957:\tlearn: 0.0158357\ttotal: 2m 1s\tremaining: 5.32s\n",
      "958:\tlearn: 0.0158205\ttotal: 2m 1s\tremaining: 5.19s\n",
      "959:\tlearn: 0.0157964\ttotal: 2m 1s\tremaining: 5.06s\n",
      "960:\tlearn: 0.0157926\ttotal: 2m 1s\tremaining: 4.94s\n",
      "961:\tlearn: 0.0157834\ttotal: 2m 1s\tremaining: 4.81s\n",
      "962:\tlearn: 0.0157736\ttotal: 2m 1s\tremaining: 4.68s\n",
      "963:\tlearn: 0.0157529\ttotal: 2m 1s\tremaining: 4.55s\n",
      "964:\tlearn: 0.0157381\ttotal: 2m 2s\tremaining: 4.43s\n",
      "965:\tlearn: 0.0156852\ttotal: 2m 2s\tremaining: 4.3s\n",
      "966:\tlearn: 0.0156607\ttotal: 2m 2s\tremaining: 4.17s\n",
      "967:\tlearn: 0.0156504\ttotal: 2m 2s\tremaining: 4.05s\n",
      "968:\tlearn: 0.0156419\ttotal: 2m 2s\tremaining: 3.92s\n",
      "969:\tlearn: 0.0156219\ttotal: 2m 2s\tremaining: 3.79s\n",
      "970:\tlearn: 0.0156053\ttotal: 2m 2s\tremaining: 3.67s\n",
      "971:\tlearn: 0.0155813\ttotal: 2m 2s\tremaining: 3.54s\n",
      "972:\tlearn: 0.0155756\ttotal: 2m 3s\tremaining: 3.41s\n",
      "973:\tlearn: 0.0155718\ttotal: 2m 3s\tremaining: 3.29s\n",
      "974:\tlearn: 0.0155531\ttotal: 2m 3s\tremaining: 3.16s\n",
      "975:\tlearn: 0.0155470\ttotal: 2m 3s\tremaining: 3.03s\n",
      "976:\tlearn: 0.0155271\ttotal: 2m 3s\tremaining: 2.91s\n",
      "977:\tlearn: 0.0154694\ttotal: 2m 3s\tremaining: 2.78s\n",
      "978:\tlearn: 0.0154554\ttotal: 2m 3s\tremaining: 2.65s\n",
      "979:\tlearn: 0.0154238\ttotal: 2m 3s\tremaining: 2.53s\n",
      "980:\tlearn: 0.0154207\ttotal: 2m 3s\tremaining: 2.4s\n",
      "981:\tlearn: 0.0153773\ttotal: 2m 4s\tremaining: 2.27s\n",
      "982:\tlearn: 0.0153727\ttotal: 2m 4s\tremaining: 2.15s\n",
      "983:\tlearn: 0.0153662\ttotal: 2m 4s\tremaining: 2.02s\n",
      "984:\tlearn: 0.0153394\ttotal: 2m 4s\tremaining: 1.89s\n",
      "985:\tlearn: 0.0153167\ttotal: 2m 4s\tremaining: 1.77s\n",
      "986:\tlearn: 0.0153023\ttotal: 2m 4s\tremaining: 1.64s\n",
      "987:\tlearn: 0.0152811\ttotal: 2m 4s\tremaining: 1.51s\n",
      "988:\tlearn: 0.0152554\ttotal: 2m 4s\tremaining: 1.39s\n",
      "989:\tlearn: 0.0152373\ttotal: 2m 4s\tremaining: 1.26s\n",
      "990:\tlearn: 0.0152296\ttotal: 2m 5s\tremaining: 1.14s\n",
      "991:\tlearn: 0.0152159\ttotal: 2m 5s\tremaining: 1.01s\n",
      "992:\tlearn: 0.0152067\ttotal: 2m 5s\tremaining: 883ms\n",
      "993:\tlearn: 0.0151881\ttotal: 2m 5s\tremaining: 757ms\n",
      "994:\tlearn: 0.0151775\ttotal: 2m 5s\tremaining: 631ms\n",
      "995:\tlearn: 0.0151739\ttotal: 2m 5s\tremaining: 504ms\n",
      "996:\tlearn: 0.0151503\ttotal: 2m 5s\tremaining: 378ms\n",
      "997:\tlearn: 0.0151288\ttotal: 2m 5s\tremaining: 252ms\n",
      "998:\tlearn: 0.0151167\ttotal: 2m 5s\tremaining: 126ms\n",
      "999:\tlearn: 0.0150955\ttotal: 2m 6s\tremaining: 0us\n"
     ]
    },
    {
     "data": {
      "text/plain": [
       "<catboost.core.CatBoostClassifier at 0x2e4815e45e0>"
      ]
     },
     "execution_count": 119,
     "metadata": {},
     "output_type": "execute_result"
    }
   ],
   "source": [
    "# training CatBoost Classification model on the training set\n",
    "classifier = CatBoostClassifier(random_state=0)\n",
    "classifier.fit(X_train, y_train)"
   ]
  },
  {
   "cell_type": "markdown",
   "id": "200bd119",
   "metadata": {},
   "source": [
    "### Model Testing & Evaluation"
   ]
  },
  {
   "cell_type": "code",
   "execution_count": 153,
   "id": "8e580a98",
   "metadata": {},
   "outputs": [],
   "source": [
    "# make predictions on the test set\n",
    "y_pred = classifier.predict(X_test)"
   ]
  },
  {
   "cell_type": "code",
   "execution_count": 154,
   "id": "0f0a1aab",
   "metadata": {},
   "outputs": [
    {
     "name": "stdout",
     "output_type": "stream",
     "text": [
      "[[3045   39]\n",
      " [  13 3143]]\n"
     ]
    }
   ],
   "source": [
    "# create the confusion matrix\n",
    "cm = confusion_matrix(y_test, y_pred)\n",
    "tn, fp, fn, tp = cm.ravel()\n",
    "print(cm)"
   ]
  },
  {
   "cell_type": "code",
   "execution_count": 155,
   "id": "f77a721c",
   "metadata": {},
   "outputs": [
    {
     "name": "stdout",
     "output_type": "stream",
     "text": [
      "Accuracy = 99.17%\n",
      "Precision = 98.77%\n",
      "Recall = 99.59%\n",
      "F1 Score = 99.18%\n"
     ]
    }
   ],
   "source": [
    "# calculate performance metrics\n",
    "accuracy = (tp+tn)/(tp+fp+tn+fn)\n",
    "precision = tp/(tp+fp)\n",
    "recall = tp/(tp+fn)\n",
    "f1score = 2*((precision*recall)/(precision+recall))\n",
    "\n",
    "print(\"Accuracy = {:.2%}\".format(accuracy))\n",
    "print(\"Precision = {:.2%}\".format(precision))\n",
    "print(\"Recall = {:.2%}\".format(recall))\n",
    "print(\"F1 Score = {:.2%}\".format(f1score))"
   ]
  },
  {
   "cell_type": "markdown",
   "id": "58092c86",
   "metadata": {},
   "source": [
    "Following are the results of first iteration of all the models. These results were computed by directly training the models with default parameters, without doing EDA and feature engineering. This gives a baseline of results.\n",
    "\n",
    "| Model | Accuracy | Precision | Recall | F1 Score |\n",
    "| --- | --- | --- | --- | --- |\n",
    "| **Logistic Regression** | **99.05%** | **98.68%** | **99.46%** | **99.07%** |\n",
    "| k Nearest Neighbors | 74.39% | 66.62% | 98.92% | 79.62% |\n",
    "| Linear SVM | 98.57% | 98.24% | 98.95% | 98.60% |\n",
    "| **Kernel SVM** | **99.12%** | **98.77%** | **99.49%** | **99.13%** |\n",
    "| Naive Bayes | 88.96% | 82.99% | 98.32% | 90.01% |\n",
    "| Multi-layer Perceptron | 98.81% | 98.46% | 99.21% | 98.83% |\n",
    "| Decision Tree | 97.37% | 97.31% | 97.50% | 97.40% |\n",
    "| Random Forest | 98.11% | 97.20% | 99.11% | 98.15% |\n",
    "| AdaBoost | 97.66% | 96.91% | 98.51% | 97.71% |\n",
    "| XGBoost | 98.70% | 98.03% | 99.43% | 98.73% |\n",
    "| **CatBoost** | **99.07%** | **98.68%** | **99.49%** | **99.08%** |\n",
    "\n",
    "The best results yet are achieved by __Kernel SVM__ model followed by __CatBoost__ and then __Logistic Regression.__ This shows that we need not use very complex model for each problem statement. Even the simpler models yield good result."
   ]
  },
  {
   "cell_type": "markdown",
   "id": "ddacdc05",
   "metadata": {},
   "source": [
    "Following are the results of second iteration of all the models after adding some new features to the data - length of text, missing title flag, missing text flag.\n",
    "\n",
    "| Model | Accuracy | Precision | Recall | F1 Score |\n",
    "| --- | --- | --- | --- | --- |\n",
    "| **Logistic Regression** | **99.15%** | **98.77%** | **99.56%** | **99.16%** |\n",
    "| k Nearest Neighbors | 74.39% | 66.62% | 98.92% | 79.62% |\n",
    "| Linear SVM | 98.72% | 98.49% | 98.99% | 98.74% |\n",
    "| **Kernel SVM** | **99.17%** | **98.77%** | **99.59%** | **99.18%** |\n",
    "| Naive Bayes | 89.10% | 83.14% | 98.42% | 90.13% |\n",
    "| Multi-layer Perceptron | 98.93% | 98.80% | 99.08% | 98.94% |\n",
    "| Decision Tree | 97.69% | 97.27% | 98.19% | 97.73% |\n",
    "| Random Forest | 98.25% | 97.18% | 99.43% | 98.29% |\n",
    "| AdaBoost | 97.92% | 97.46% | 98.45% | 97.95% |\n",
    "| XGBoost | 98.77% | 98.09% | 99.49% | 98.79% |\n",
    "| CatBoost | 99.05% | 98.68% | 99.46% | 99.07% |\n",
    "\n",
    "- There was improvement in performance of all the models (except CatBoost).\n",
    "- The best results are achieved by using __Kernel SVM__ model followed very closely by __Logistic Regression__ model."
   ]
  },
  {
   "cell_type": "markdown",
   "id": "e4c5fa65",
   "metadata": {},
   "source": [
    "## Generate final predictions"
   ]
  },
  {
   "cell_type": "markdown",
   "id": "1da9c514",
   "metadata": {},
   "source": [
    "- The results generated above are by splitting the train data into train and test set.\n",
    "- Now generate results for the actual test dataset made available to us."
   ]
  },
  {
   "cell_type": "markdown",
   "id": "fef8382e",
   "metadata": {},
   "source": [
    "### Prepare the test dataset using same transformation as applied on train data"
   ]
  },
  {
   "cell_type": "markdown",
   "id": "dec8d760",
   "metadata": {},
   "source": [
    "Only use the transform method is used here and not the fit-transform to avoid look forward."
   ]
  },
  {
   "cell_type": "code",
   "execution_count": 123,
   "id": "d168691c",
   "metadata": {},
   "outputs": [
    {
     "data": {
      "text/plain": [
       "(5200, 41)"
      ]
     },
     "execution_count": 123,
     "metadata": {},
     "output_type": "execute_result"
    }
   ],
   "source": [
    "test_title_vectors = title_vectorizer.transform(test['title'])\n",
    "test_title_df = pd.DataFrame(test_title_vectors.todense())\n",
    "test_title_df.shape"
   ]
  },
  {
   "cell_type": "code",
   "execution_count": 124,
   "id": "aa4cd8a6",
   "metadata": {},
   "outputs": [
    {
     "data": {
      "text/plain": [
       "(5200, 462)"
      ]
     },
     "execution_count": 124,
     "metadata": {},
     "output_type": "execute_result"
    }
   ],
   "source": [
    "test_author_vectors = author_vectorizer.transform(test['author'])\n",
    "test_author_df = pd.DataFrame(test_author_vectors.todense())\n",
    "test_author_df.shape"
   ]
  },
  {
   "cell_type": "code",
   "execution_count": 125,
   "id": "e0da958d",
   "metadata": {},
   "outputs": [
    {
     "data": {
      "text/plain": [
       "(5200, 980)"
      ]
     },
     "execution_count": 125,
     "metadata": {},
     "output_type": "execute_result"
    }
   ],
   "source": [
    "test_text_vectors = text_vectorizer.transform(test['text'])\n",
    "test_text_df = pd.DataFrame(test_text_vectors.todense())\n",
    "test_text_df.shape"
   ]
  },
  {
   "cell_type": "code",
   "execution_count": 126,
   "id": "6e947a15",
   "metadata": {},
   "outputs": [
    {
     "data": {
      "text/plain": [
       "(5200, 1486)"
      ]
     },
     "execution_count": 126,
     "metadata": {},
     "output_type": "execute_result"
    }
   ],
   "source": [
    "test_data = pd.concat([test[['length','missing_title','missing_text']], test_title_df, test_author_df, test_text_df], axis=1)\n",
    "test_data.shape"
   ]
  },
  {
   "cell_type": "code",
   "execution_count": 127,
   "id": "15293057",
   "metadata": {},
   "outputs": [
    {
     "data": {
      "text/html": [
       "<div>\n",
       "<style scoped>\n",
       "    .dataframe tbody tr th:only-of-type {\n",
       "        vertical-align: middle;\n",
       "    }\n",
       "\n",
       "    .dataframe tbody tr th {\n",
       "        vertical-align: top;\n",
       "    }\n",
       "\n",
       "    .dataframe thead th {\n",
       "        text-align: right;\n",
       "    }\n",
       "</style>\n",
       "<table border=\"1\" class=\"dataframe\">\n",
       "  <thead>\n",
       "    <tr style=\"text-align: right;\">\n",
       "      <th></th>\n",
       "      <th>length</th>\n",
       "      <th>missing_title</th>\n",
       "      <th>missing_text</th>\n",
       "      <th>0</th>\n",
       "      <th>1</th>\n",
       "      <th>2</th>\n",
       "      <th>3</th>\n",
       "      <th>4</th>\n",
       "      <th>5</th>\n",
       "      <th>6</th>\n",
       "      <th>...</th>\n",
       "      <th>970</th>\n",
       "      <th>971</th>\n",
       "      <th>972</th>\n",
       "      <th>973</th>\n",
       "      <th>974</th>\n",
       "      <th>975</th>\n",
       "      <th>976</th>\n",
       "      <th>977</th>\n",
       "      <th>978</th>\n",
       "      <th>979</th>\n",
       "    </tr>\n",
       "  </thead>\n",
       "  <tbody>\n",
       "    <tr>\n",
       "      <th>0</th>\n",
       "      <td>8015</td>\n",
       "      <td>0</td>\n",
       "      <td>0</td>\n",
       "      <td>0.0</td>\n",
       "      <td>0.0</td>\n",
       "      <td>0.000000</td>\n",
       "      <td>0.0</td>\n",
       "      <td>0.0</td>\n",
       "      <td>0.0</td>\n",
       "      <td>0.0</td>\n",
       "      <td>...</td>\n",
       "      <td>0.0</td>\n",
       "      <td>0.0</td>\n",
       "      <td>0.000000</td>\n",
       "      <td>0.000000</td>\n",
       "      <td>0.029226</td>\n",
       "      <td>0.000000</td>\n",
       "      <td>0.019606</td>\n",
       "      <td>0.0</td>\n",
       "      <td>0.026017</td>\n",
       "      <td>0.0</td>\n",
       "    </tr>\n",
       "    <tr>\n",
       "      <th>1</th>\n",
       "      <td>1559</td>\n",
       "      <td>0</td>\n",
       "      <td>0</td>\n",
       "      <td>0.0</td>\n",
       "      <td>0.0</td>\n",
       "      <td>0.000000</td>\n",
       "      <td>0.0</td>\n",
       "      <td>0.0</td>\n",
       "      <td>0.0</td>\n",
       "      <td>0.0</td>\n",
       "      <td>...</td>\n",
       "      <td>0.0</td>\n",
       "      <td>0.0</td>\n",
       "      <td>0.000000</td>\n",
       "      <td>0.000000</td>\n",
       "      <td>0.000000</td>\n",
       "      <td>0.000000</td>\n",
       "      <td>0.000000</td>\n",
       "      <td>0.0</td>\n",
       "      <td>0.000000</td>\n",
       "      <td>0.0</td>\n",
       "    </tr>\n",
       "    <tr>\n",
       "      <th>2</th>\n",
       "      <td>4547</td>\n",
       "      <td>0</td>\n",
       "      <td>0</td>\n",
       "      <td>0.0</td>\n",
       "      <td>0.0</td>\n",
       "      <td>0.721739</td>\n",
       "      <td>0.0</td>\n",
       "      <td>0.0</td>\n",
       "      <td>0.0</td>\n",
       "      <td>0.0</td>\n",
       "      <td>...</td>\n",
       "      <td>0.0</td>\n",
       "      <td>0.0</td>\n",
       "      <td>0.050201</td>\n",
       "      <td>0.095659</td>\n",
       "      <td>0.000000</td>\n",
       "      <td>0.000000</td>\n",
       "      <td>0.000000</td>\n",
       "      <td>0.0</td>\n",
       "      <td>0.000000</td>\n",
       "      <td>0.0</td>\n",
       "    </tr>\n",
       "    <tr>\n",
       "      <th>3</th>\n",
       "      <td>3578</td>\n",
       "      <td>0</td>\n",
       "      <td>0</td>\n",
       "      <td>0.0</td>\n",
       "      <td>0.0</td>\n",
       "      <td>0.000000</td>\n",
       "      <td>0.0</td>\n",
       "      <td>0.0</td>\n",
       "      <td>0.0</td>\n",
       "      <td>0.0</td>\n",
       "      <td>...</td>\n",
       "      <td>0.0</td>\n",
       "      <td>0.0</td>\n",
       "      <td>0.000000</td>\n",
       "      <td>0.000000</td>\n",
       "      <td>0.000000</td>\n",
       "      <td>0.091152</td>\n",
       "      <td>0.086968</td>\n",
       "      <td>0.0</td>\n",
       "      <td>0.000000</td>\n",
       "      <td>0.0</td>\n",
       "    </tr>\n",
       "    <tr>\n",
       "      <th>4</th>\n",
       "      <td>542</td>\n",
       "      <td>0</td>\n",
       "      <td>0</td>\n",
       "      <td>0.0</td>\n",
       "      <td>0.0</td>\n",
       "      <td>0.000000</td>\n",
       "      <td>0.0</td>\n",
       "      <td>0.0</td>\n",
       "      <td>0.0</td>\n",
       "      <td>0.0</td>\n",
       "      <td>...</td>\n",
       "      <td>0.0</td>\n",
       "      <td>0.0</td>\n",
       "      <td>0.000000</td>\n",
       "      <td>0.000000</td>\n",
       "      <td>0.000000</td>\n",
       "      <td>0.000000</td>\n",
       "      <td>0.000000</td>\n",
       "      <td>0.0</td>\n",
       "      <td>0.000000</td>\n",
       "      <td>0.0</td>\n",
       "    </tr>\n",
       "  </tbody>\n",
       "</table>\n",
       "<p>5 rows × 1486 columns</p>\n",
       "</div>"
      ],
      "text/plain": [
       "   length  missing_title  missing_text    0    1         2    3    4    5  \\\n",
       "0    8015              0             0  0.0  0.0  0.000000  0.0  0.0  0.0   \n",
       "1    1559              0             0  0.0  0.0  0.000000  0.0  0.0  0.0   \n",
       "2    4547              0             0  0.0  0.0  0.721739  0.0  0.0  0.0   \n",
       "3    3578              0             0  0.0  0.0  0.000000  0.0  0.0  0.0   \n",
       "4     542              0             0  0.0  0.0  0.000000  0.0  0.0  0.0   \n",
       "\n",
       "     6  ...  970  971       972       973       974       975       976  977  \\\n",
       "0  0.0  ...  0.0  0.0  0.000000  0.000000  0.029226  0.000000  0.019606  0.0   \n",
       "1  0.0  ...  0.0  0.0  0.000000  0.000000  0.000000  0.000000  0.000000  0.0   \n",
       "2  0.0  ...  0.0  0.0  0.050201  0.095659  0.000000  0.000000  0.000000  0.0   \n",
       "3  0.0  ...  0.0  0.0  0.000000  0.000000  0.000000  0.091152  0.086968  0.0   \n",
       "4  0.0  ...  0.0  0.0  0.000000  0.000000  0.000000  0.000000  0.000000  0.0   \n",
       "\n",
       "        978  979  \n",
       "0  0.026017  0.0  \n",
       "1  0.000000  0.0  \n",
       "2  0.000000  0.0  \n",
       "3  0.000000  0.0  \n",
       "4  0.000000  0.0  \n",
       "\n",
       "[5 rows x 1486 columns]"
      ]
     },
     "execution_count": 127,
     "metadata": {},
     "output_type": "execute_result"
    }
   ],
   "source": [
    "test_data.head()"
   ]
  },
  {
   "cell_type": "markdown",
   "id": "75b00cfb",
   "metadata": {},
   "source": [
    "### Scale the data"
   ]
  },
  {
   "cell_type": "code",
   "execution_count": 128,
   "id": "2575b8a1",
   "metadata": {},
   "outputs": [
    {
     "data": {
      "text/html": [
       "<div>\n",
       "<style scoped>\n",
       "    .dataframe tbody tr th:only-of-type {\n",
       "        vertical-align: middle;\n",
       "    }\n",
       "\n",
       "    .dataframe tbody tr th {\n",
       "        vertical-align: top;\n",
       "    }\n",
       "\n",
       "    .dataframe thead th {\n",
       "        text-align: right;\n",
       "    }\n",
       "</style>\n",
       "<table border=\"1\" class=\"dataframe\">\n",
       "  <thead>\n",
       "    <tr style=\"text-align: right;\">\n",
       "      <th></th>\n",
       "      <th>length</th>\n",
       "      <th>missing_title</th>\n",
       "      <th>missing_text</th>\n",
       "      <th>0</th>\n",
       "      <th>1</th>\n",
       "      <th>2</th>\n",
       "      <th>3</th>\n",
       "      <th>4</th>\n",
       "      <th>5</th>\n",
       "      <th>6</th>\n",
       "      <th>...</th>\n",
       "      <th>971</th>\n",
       "      <th>972</th>\n",
       "      <th>973</th>\n",
       "      <th>974</th>\n",
       "      <th>975</th>\n",
       "      <th>976</th>\n",
       "      <th>977</th>\n",
       "      <th>978</th>\n",
       "      <th>979</th>\n",
       "      <th>label</th>\n",
       "    </tr>\n",
       "  </thead>\n",
       "  <tbody>\n",
       "    <tr>\n",
       "      <th>0</th>\n",
       "      <td>4930</td>\n",
       "      <td>0</td>\n",
       "      <td>0</td>\n",
       "      <td>0.0</td>\n",
       "      <td>0.0</td>\n",
       "      <td>0.0</td>\n",
       "      <td>0.0</td>\n",
       "      <td>0.0</td>\n",
       "      <td>0.0</td>\n",
       "      <td>0.000000</td>\n",
       "      <td>...</td>\n",
       "      <td>0.0</td>\n",
       "      <td>0.000000</td>\n",
       "      <td>0.0</td>\n",
       "      <td>0.0</td>\n",
       "      <td>0.027646</td>\n",
       "      <td>0.026377</td>\n",
       "      <td>0.0</td>\n",
       "      <td>0.0</td>\n",
       "      <td>0.0</td>\n",
       "      <td>1</td>\n",
       "    </tr>\n",
       "    <tr>\n",
       "      <th>1</th>\n",
       "      <td>4160</td>\n",
       "      <td>0</td>\n",
       "      <td>0</td>\n",
       "      <td>0.0</td>\n",
       "      <td>0.0</td>\n",
       "      <td>0.0</td>\n",
       "      <td>0.0</td>\n",
       "      <td>0.0</td>\n",
       "      <td>0.0</td>\n",
       "      <td>0.506115</td>\n",
       "      <td>...</td>\n",
       "      <td>0.0</td>\n",
       "      <td>0.000000</td>\n",
       "      <td>0.0</td>\n",
       "      <td>0.0</td>\n",
       "      <td>0.000000</td>\n",
       "      <td>0.038445</td>\n",
       "      <td>0.0</td>\n",
       "      <td>0.0</td>\n",
       "      <td>0.0</td>\n",
       "      <td>0</td>\n",
       "    </tr>\n",
       "    <tr>\n",
       "      <th>2</th>\n",
       "      <td>7692</td>\n",
       "      <td>0</td>\n",
       "      <td>0</td>\n",
       "      <td>0.0</td>\n",
       "      <td>0.0</td>\n",
       "      <td>0.0</td>\n",
       "      <td>0.0</td>\n",
       "      <td>0.0</td>\n",
       "      <td>0.0</td>\n",
       "      <td>0.000000</td>\n",
       "      <td>...</td>\n",
       "      <td>0.0</td>\n",
       "      <td>0.000000</td>\n",
       "      <td>0.0</td>\n",
       "      <td>0.0</td>\n",
       "      <td>0.000000</td>\n",
       "      <td>0.017911</td>\n",
       "      <td>0.0</td>\n",
       "      <td>0.0</td>\n",
       "      <td>0.0</td>\n",
       "      <td>1</td>\n",
       "    </tr>\n",
       "    <tr>\n",
       "      <th>3</th>\n",
       "      <td>3237</td>\n",
       "      <td>0</td>\n",
       "      <td>0</td>\n",
       "      <td>0.0</td>\n",
       "      <td>0.0</td>\n",
       "      <td>0.0</td>\n",
       "      <td>0.0</td>\n",
       "      <td>0.0</td>\n",
       "      <td>0.0</td>\n",
       "      <td>0.000000</td>\n",
       "      <td>...</td>\n",
       "      <td>0.0</td>\n",
       "      <td>0.000000</td>\n",
       "      <td>0.0</td>\n",
       "      <td>0.0</td>\n",
       "      <td>0.000000</td>\n",
       "      <td>0.000000</td>\n",
       "      <td>0.0</td>\n",
       "      <td>0.0</td>\n",
       "      <td>0.0</td>\n",
       "      <td>1</td>\n",
       "    </tr>\n",
       "    <tr>\n",
       "      <th>4</th>\n",
       "      <td>938</td>\n",
       "      <td>0</td>\n",
       "      <td>0</td>\n",
       "      <td>0.0</td>\n",
       "      <td>0.0</td>\n",
       "      <td>0.0</td>\n",
       "      <td>0.0</td>\n",
       "      <td>0.0</td>\n",
       "      <td>0.0</td>\n",
       "      <td>0.000000</td>\n",
       "      <td>...</td>\n",
       "      <td>0.0</td>\n",
       "      <td>0.320161</td>\n",
       "      <td>0.0</td>\n",
       "      <td>0.0</td>\n",
       "      <td>0.088613</td>\n",
       "      <td>0.084545</td>\n",
       "      <td>0.0</td>\n",
       "      <td>0.0</td>\n",
       "      <td>0.0</td>\n",
       "      <td>1</td>\n",
       "    </tr>\n",
       "  </tbody>\n",
       "</table>\n",
       "<p>5 rows × 1487 columns</p>\n",
       "</div>"
      ],
      "text/plain": [
       "   length  missing_title  missing_text    0    1    2    3    4    5  \\\n",
       "0    4930              0             0  0.0  0.0  0.0  0.0  0.0  0.0   \n",
       "1    4160              0             0  0.0  0.0  0.0  0.0  0.0  0.0   \n",
       "2    7692              0             0  0.0  0.0  0.0  0.0  0.0  0.0   \n",
       "3    3237              0             0  0.0  0.0  0.0  0.0  0.0  0.0   \n",
       "4     938              0             0  0.0  0.0  0.0  0.0  0.0  0.0   \n",
       "\n",
       "          6  ...  971       972  973  974       975       976  977  978  979  \\\n",
       "0  0.000000  ...  0.0  0.000000  0.0  0.0  0.027646  0.026377  0.0  0.0  0.0   \n",
       "1  0.506115  ...  0.0  0.000000  0.0  0.0  0.000000  0.038445  0.0  0.0  0.0   \n",
       "2  0.000000  ...  0.0  0.000000  0.0  0.0  0.000000  0.017911  0.0  0.0  0.0   \n",
       "3  0.000000  ...  0.0  0.000000  0.0  0.0  0.000000  0.000000  0.0  0.0  0.0   \n",
       "4  0.000000  ...  0.0  0.320161  0.0  0.0  0.088613  0.084545  0.0  0.0  0.0   \n",
       "\n",
       "   label  \n",
       "0      1  \n",
       "1      0  \n",
       "2      1  \n",
       "3      1  \n",
       "4      1  \n",
       "\n",
       "[5 rows x 1487 columns]"
      ]
     },
     "execution_count": 128,
     "metadata": {},
     "output_type": "execute_result"
    }
   ],
   "source": [
    "train_data.head()"
   ]
  },
  {
   "cell_type": "code",
   "execution_count": 137,
   "id": "b5256e18",
   "metadata": {},
   "outputs": [],
   "source": [
    "# separate the train and test features and labels\n",
    "X_train = train_data.iloc[:,:-1].values\n",
    "X_test = test_data.iloc[:,:].values\n",
    "y_train = train_data.iloc[:,-1].values\n",
    "# y_test is not made available"
   ]
  },
  {
   "cell_type": "code",
   "execution_count": 138,
   "id": "306c84e7",
   "metadata": {},
   "outputs": [],
   "source": [
    "# feature scaling\n",
    "sc = StandardScaler()\n",
    "X_train = sc.fit_transform(X_train)\n",
    "# use X_train to fit the scaler and then use same transformation for X_test to avoid data leakage\n",
    "X_test = sc.transform(X_test)"
   ]
  },
  {
   "cell_type": "markdown",
   "id": "2286fc99",
   "metadata": {},
   "source": [
    "### Retraining the best model on complete train dataset"
   ]
  },
  {
   "cell_type": "code",
   "execution_count": 148,
   "id": "45e29ceb",
   "metadata": {},
   "outputs": [],
   "source": [
    "# # training the Logistic Regression model on the training set\n",
    "# classifier = LogisticRegression(random_state=0)\n",
    "# classifier.fit(X_train, y_train)"
   ]
  },
  {
   "cell_type": "code",
   "execution_count": 142,
   "id": "75d25b33",
   "metadata": {},
   "outputs": [
    {
     "data": {
      "text/plain": [
       "SVC(random_state=0)"
      ]
     },
     "execution_count": 142,
     "metadata": {},
     "output_type": "execute_result"
    }
   ],
   "source": [
    "# training the Kernel SVM model on the training set\n",
    "classifier = SVC(kernel='rbf', random_state=0)\n",
    "classifier.fit(X_train, y_train)"
   ]
  },
  {
   "cell_type": "markdown",
   "id": "46965193",
   "metadata": {},
   "source": [
    "### Make prediction for the data in test.csv"
   ]
  },
  {
   "cell_type": "code",
   "execution_count": 143,
   "id": "a5d4892e",
   "metadata": {},
   "outputs": [],
   "source": [
    "# make the predictions\n",
    "y_pred = classifier.predict(X_test)"
   ]
  },
  {
   "cell_type": "code",
   "execution_count": 144,
   "id": "b7713e03",
   "metadata": {},
   "outputs": [],
   "source": [
    "# save the predicted labels\n",
    "submit = pd.DataFrame(test['id'])\n",
    "submit['label'] = y_pred\n",
    "submit.to_csv(\"../data/submit.csv\", index=None)"
   ]
  },
  {
   "cell_type": "markdown",
   "id": "9e1b1f8c",
   "metadata": {},
   "source": [
    "### Kaggle Score:\n",
    "\n",
    "| Submission No. | Score | Model | Comments |\n",
    "| --- | --- | --- | --- |\n",
    "| 1 | 99.04% | Logistic Regression | Direct model implementation without EDA and feature engineering. |\n",
    "| 2 | 99.17% | Logistic Regression | Added new features after feature engineering. | \n",
    "| **3** | **99.29%** | **SVM with RBF Kernel** | **Added new features after feature engineering.** | "
   ]
  },
  {
   "cell_type": "code",
   "execution_count": null,
   "id": "c224731e",
   "metadata": {},
   "outputs": [],
   "source": []
  }
 ],
 "metadata": {
  "kernelspec": {
   "display_name": "Python 3",
   "language": "python",
   "name": "python3"
  },
  "language_info": {
   "codemirror_mode": {
    "name": "ipython",
    "version": 3
   },
   "file_extension": ".py",
   "mimetype": "text/x-python",
   "name": "python",
   "nbconvert_exporter": "python",
   "pygments_lexer": "ipython3",
   "version": "3.8.8"
  }
 },
 "nbformat": 4,
 "nbformat_minor": 5
}
